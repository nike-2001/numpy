{
  "nbformat": 4,
  "nbformat_minor": 0,
  "metadata": {
    "colab": {
      "name": "Copy of Introduction to NumPy.ipynb",
      "provenance": [],
      "collapsed_sections": [],
      "toc_visible": true,
      "include_colab_link": true
    },
    "kernelspec": {
      "name": "python3",
      "display_name": "Python 3"
    }
  },
  "cells": [
    {
      "cell_type": "markdown",
      "metadata": {
        "id": "view-in-github",
        "colab_type": "text"
      },
      "source": [
        "<a href=\"https://colab.research.google.com/github/nike-2001/numpy/blob/main/Copy_of_Introduction_to_NumPy.ipynb\" target=\"_parent\"><img src=\"https://colab.research.google.com/assets/colab-badge.svg\" alt=\"Open In Colab\"/></a>"
      ]
    },
    {
      "cell_type": "code",
      "metadata": {
        "id": "g2TWrGzPXGkh",
        "colab": {
          "base_uri": "https://localhost:8080/"
        },
        "outputId": "032ba69a-0e9b-4b6f-90b1-bf741779de32"
      },
      "source": [
        "print(\"Hello World!\")"
      ],
      "execution_count": 1,
      "outputs": [
        {
          "output_type": "stream",
          "text": [
            "Hello World!\n"
          ],
          "name": "stdout"
        }
      ]
    },
    {
      "cell_type": "code",
      "metadata": {
        "id": "syIPTwaErU-y"
      },
      "source": [
        "# importing numpy\n",
        "import numpy as np"
      ],
      "execution_count": 2,
      "outputs": []
    },
    {
      "cell_type": "markdown",
      "metadata": {
        "id": "Sp7E5bXmRWKe"
      },
      "source": [
        "# Numpy Arrays vs Python Lists\n",
        "By adding two simple vectors, you can observe the time taken by using python lists vs using NumPy arrays \n"
      ]
    },
    {
      "cell_type": "code",
      "metadata": {
        "id": "N-4OODZsPsKL"
      },
      "source": [
        "vec_size = 1000\n",
        "def add_python_lists():\n",
        "    X = range(vec_size)\n",
        "    Y = range(vec_size)\n",
        "    Z = [X[i] + Y[i] for i in range(len(X))]\n",
        "    return Z"
      ],
      "execution_count": 3,
      "outputs": []
    },
    {
      "cell_type": "code",
      "metadata": {
        "id": "AreEUTxiYsvY"
      },
      "source": [
        "def add_numpy_arrays():\n",
        "    X = np.arange(vec_size)\n",
        "    Y = np.arange(vec_size)\n",
        "    Z = X + Y\n",
        "    return Z"
      ],
      "execution_count": 4,
      "outputs": []
    },
    {
      "cell_type": "markdown",
      "metadata": {
        "id": "6UBhAteMIM6Z"
      },
      "source": [
        "**`%timeit`** function: `N` loops indicate that the function has been called `N` times to compute the average time to execute the function. \n",
        "\n",
        "Best of `K` indicates that the `%timeit` has been run `K` times to take the best average.\n",
        "\n",
        "These constants can also be modified and given as arguments to the `%timeit` function. To know more, run **`%timeit?`** in a new cell."
      ]
    },
    {
      "cell_type": "code",
      "metadata": {
        "id": "AOk831sVYarj",
        "colab": {
          "base_uri": "https://localhost:8080/"
        },
        "outputId": "4f6ab892-c16d-4aa1-a9bf-367f79de2ca4"
      },
      "source": [
        "%timeit add_python_lists()"
      ],
      "execution_count": 5,
      "outputs": [
        {
          "output_type": "stream",
          "text": [
            "1000 loops, best of 3: 257 µs per loop\n"
          ],
          "name": "stdout"
        }
      ]
    },
    {
      "cell_type": "code",
      "metadata": {
        "id": "TjIM2cD4ZGXk",
        "colab": {
          "base_uri": "https://localhost:8080/"
        },
        "outputId": "ab801475-5fdb-4f15-9e65-c934727a469f"
      },
      "source": [
        "%timeit add_numpy_arrays()"
      ],
      "execution_count": 6,
      "outputs": [
        {
          "output_type": "stream",
          "text": [
            "The slowest run took 1099.07 times longer than the fastest. This could mean that an intermediate result is being cached.\n",
            "100000 loops, best of 3: 3.97 µs per loop\n"
          ],
          "name": "stdout"
        }
      ]
    },
    {
      "cell_type": "markdown",
      "metadata": {
        "id": "FiLuf2Darq7K"
      },
      "source": [
        "# Creating NumPy Arrays"
      ]
    },
    {
      "cell_type": "markdown",
      "metadata": {
        "id": "bBtfIrxRqwng"
      },
      "source": [
        "### Creating NumPy Arrays: From Lists"
      ]
    },
    {
      "cell_type": "markdown",
      "metadata": {
        "id": "olkzI4I5ykMA"
      },
      "source": [
        "\n",
        "*   Numpy arrays can be created using a list with `numpy.array`\n",
        "*   All elements of a numpy array should be of the same type \n",
        "    *   `numpy.array` chooses a data type which fits all of the elements in the array\n",
        "    *   We can also specify the data type with the `dtype` parameter\n",
        "\n",
        "\n",
        "\n"
      ]
    },
    {
      "cell_type": "code",
      "metadata": {
        "id": "NCGhVIz2zFPz",
        "colab": {
          "base_uri": "https://localhost:8080/"
        },
        "outputId": "12828e88-0c75-4135-fe37-57075c8c616f"
      },
      "source": [
        "np_array_from_list = np.array([1, 5, 7, 9, -2])\n",
        "print(\"np_array_from_list:\", np_array_from_list)"
      ],
      "execution_count": 7,
      "outputs": [
        {
          "output_type": "stream",
          "text": [
            "np_array_from_list: [ 1  5  7  9 -2]\n"
          ],
          "name": "stdout"
        }
      ]
    },
    {
      "cell_type": "code",
      "metadata": {
        "id": "KNg6tqznqhLH",
        "colab": {
          "base_uri": "https://localhost:8080/"
        },
        "outputId": "ab24d595-7d84-471a-d848-5205a534ce5f"
      },
      "source": [
        "boolean_array = np.array([False, True, True, False])\n",
        "print(\"boolean_array:\", boolean_array)\n",
        "\n",
        "typecasted_float_array = np.array([1, 5, 7, 9, -2], dtype=float)\n",
        "print(\"typecasted_float_array:\", typecasted_float_array)\n",
        "\n",
        "int_array = np.array([1, 5, 7, 9, -2], dtype=np.int16)\n",
        "print(\"int_array:\", int_array)\n",
        "\n",
        "typecasted_int_array = np.array([1, 5, 7, 9, -2.54], dtype=np.int64)\n",
        "print(\"typecasted_int_array:\", typecasted_int_array)"
      ],
      "execution_count": 8,
      "outputs": [
        {
          "output_type": "stream",
          "text": [
            "boolean_array: [False  True  True False]\n",
            "typecasted_float_array: [ 1.  5.  7.  9. -2.]\n",
            "int_array: [ 1  5  7  9 -2]\n",
            "typecasted_int_array: [ 1  5  7  9 -2]\n"
          ],
          "name": "stdout"
        }
      ]
    },
    {
      "cell_type": "markdown",
      "metadata": {
        "id": "2DX6DjEHr1XW"
      },
      "source": [
        "### Creating NumPy Constant Arrays"
      ]
    },
    {
      "cell_type": "markdown",
      "metadata": {
        "id": "nYWKWaP0zmXB"
      },
      "source": [
        "\n",
        "#### np.zeros\n",
        "*   `[np.zeros](shape, dtype=float)`\n",
        "  *   Returns a new array of given shape and type, filled with zeros.\n",
        "\n"
      ]
    },
    {
      "cell_type": "code",
      "metadata": {
        "id": "o6Qi_r9Pr4-B",
        "colab": {
          "base_uri": "https://localhost:8080/"
        },
        "outputId": "abd1c794-fbfa-4218-b9b9-5a0c4dd7b2e9"
      },
      "source": [
        "zeros_5 = np.zeros(5)\n",
        "print(\"zeros_5:\", zeros_5)\n",
        "\n",
        "zeros_7 = np.zeros(7, dtype=int)\n",
        "print(\"zeros_7:\", zeros_7)"
      ],
      "execution_count": 9,
      "outputs": [
        {
          "output_type": "stream",
          "text": [
            "zeros_5: [0. 0. 0. 0. 0.]\n",
            "zeros_7: [0 0 0 0 0 0 0]\n"
          ],
          "name": "stdout"
        }
      ]
    },
    {
      "cell_type": "markdown",
      "metadata": {
        "id": "QB_iwLxdzyp0"
      },
      "source": [
        "#### np.ones\n",
        "* `np.ones(shape, dtype=float)`\n",
        "  *   Returns a new array of given shape and type, filled with ones.\n"
      ]
    },
    {
      "cell_type": "code",
      "metadata": {
        "id": "kZ81ecASuXN_",
        "colab": {
          "base_uri": "https://localhost:8080/"
        },
        "outputId": "f77e5d86-00ba-4b11-88cf-98b9421bdd9c"
      },
      "source": [
        "ones_5 = np.ones(5)\n",
        "print(\"ones_5:\",ones_5)"
      ],
      "execution_count": 10,
      "outputs": [
        {
          "output_type": "stream",
          "text": [
            "ones_5: [1. 1. 1. 1. 1.]\n"
          ],
          "name": "stdout"
        }
      ]
    },
    {
      "cell_type": "markdown",
      "metadata": {
        "id": "_AmJ3mLJvF5j"
      },
      "source": [
        "#### np.full\n",
        "* `np.full(shape, fill_value, dtype=None)`\n",
        "    *   Returns a new array of given shape and type, filled with `fill_value`.\n",
        "    *   The default data type is derived from the `fill_value`\n",
        "\n",
        "\n",
        "\n"
      ]
    },
    {
      "cell_type": "code",
      "metadata": {
        "id": "v8hvY3hCu21Q",
        "colab": {
          "base_uri": "https://localhost:8080/"
        },
        "outputId": "16f449db-3c68-4b1b-e084-2d9132f3f51f"
      },
      "source": [
        "fill_array = np.full(10, fill_value=7.5)\n",
        "print(\"fill_array:\",fill_array)"
      ],
      "execution_count": 11,
      "outputs": [
        {
          "output_type": "stream",
          "text": [
            "fill_array: [7.5 7.5 7.5 7.5 7.5 7.5 7.5 7.5 7.5 7.5]\n"
          ],
          "name": "stdout"
        }
      ]
    },
    {
      "cell_type": "code",
      "metadata": {
        "id": "a0hEJk5Jumgx",
        "colab": {
          "base_uri": "https://localhost:8080/"
        },
        "outputId": "a588508b-1a84-464a-94b1-bd42cd0da77e"
      },
      "source": [
        "fill_int_array = np.full(10, fill_value=7.5, dtype=int)\n",
        "print(\"fill_int_array:\",fill_int_array)\n",
        "\n",
        "fill_bool_array = np.full(6, fill_value=False)\n",
        "print(\"fill_bool_array:\",fill_bool_array)"
      ],
      "execution_count": 12,
      "outputs": [
        {
          "output_type": "stream",
          "text": [
            "fill_int_array: [7 7 7 7 7 7 7 7 7 7]\n",
            "fill_bool_array: [False False False False False False]\n"
          ],
          "name": "stdout"
        }
      ]
    },
    {
      "cell_type": "markdown",
      "metadata": {
        "id": "QS3qxMOvvpKc"
      },
      "source": [
        "### Creating NumPy Sequential Arrays\n"
      ]
    },
    {
      "cell_type": "markdown",
      "metadata": {
        "id": "gEa0nKxbNKfR"
      },
      "source": [
        "#### np.arange\n",
        "* `np.arange(start, stop, step, dtype=None)`\n",
        "  * Equivalent to the Python built-in range, but returns an `ndarray` rather than a list\n",
        "  * Values are generated within the half-open interval `[start, stop)` \n",
        "  * Much more efficient than `np.array(range(_))`"
      ]
    },
    {
      "cell_type": "code",
      "metadata": {
        "id": "saaPTweSvnRn",
        "colab": {
          "base_uri": "https://localhost:8080/"
        },
        "outputId": "d964d5e1-209a-4604-b0fe-da7a7643fdae"
      },
      "source": [
        "first_10_numbers = np.arange(10)\n",
        "print(\"first_10_numbers:\",first_10_numbers)"
      ],
      "execution_count": 13,
      "outputs": [
        {
          "output_type": "stream",
          "text": [
            "first_10_numbers: [0 1 2 3 4 5 6 7 8 9]\n"
          ],
          "name": "stdout"
        }
      ]
    },
    {
      "cell_type": "code",
      "metadata": {
        "id": "Ch4PL5c8v-hW",
        "colab": {
          "base_uri": "https://localhost:8080/"
        },
        "outputId": "0ec3577e-8abf-4769-e4ef-d01e2d89a29f"
      },
      "source": [
        "numbers_with_step = np.arange(5, 13, 2, dtype=float)\n",
        "print(\"numbers_with_step:\",numbers_with_step)\n",
        "\n",
        "numbers_with_neg_step = np.arange(5, -6, -1)\n",
        "print(\"numbers_with_neg_step:\",numbers_with_neg_step)\n"
      ],
      "execution_count": 14,
      "outputs": [
        {
          "output_type": "stream",
          "text": [
            "numbers_with_step: [ 5.  7.  9. 11.]\n",
            "numbers_with_neg_step: [ 5  4  3  2  1  0 -1 -2 -3 -4 -5]\n"
          ],
          "name": "stdout"
        }
      ]
    },
    {
      "cell_type": "markdown",
      "metadata": {
        "id": "tyVdzqOT0_5y"
      },
      "source": [
        "#### np.linspace\n",
        "\n",
        "* `np.linspace(start, stop, num=50, endpoint=True, retstep=False, dtype=None)`\n",
        "\n",
        "    *   Returns evenly spaced numbers, calculated over the interval `[start, stop]`. The number of evenly spaced numbers returned is equal to `num`\n",
        "\n",
        "    *   Can control whether the last number `stop` can be included or excluded with the `endpoint` parameter\n"
      ]
    },
    {
      "cell_type": "code",
      "metadata": {
        "id": "jj5m1jHyJ0g5",
        "colab": {
          "base_uri": "https://localhost:8080/"
        },
        "outputId": "4970a2b1-2efc-4fae-d98c-62513bceceea"
      },
      "source": [
        "a = 4.0\n",
        "b = 5.0\n",
        "n = 6\n",
        "sequential_array = np.linspace(a, b, num=n)\n",
        "print(\"sequential_array:\",sequential_array)"
      ],
      "execution_count": 15,
      "outputs": [
        {
          "output_type": "stream",
          "text": [
            "sequential_array: [4.  4.2 4.4 4.6 4.8 5. ]\n"
          ],
          "name": "stdout"
        }
      ]
    },
    {
      "cell_type": "code",
      "metadata": {
        "id": "HeJPOWLHK7tc",
        "colab": {
          "base_uri": "https://localhost:8080/"
        },
        "outputId": "adafbf43-1a6d-4559-d55a-c44c5b5fba53"
      },
      "source": [
        "sequential_array_to_exclude_end = np.linspace(a, b, num=n, endpoint=False)\n",
        "print(\"sequential_array_to_exclude_end:\",sequential_array_to_exclude_end)"
      ],
      "execution_count": 16,
      "outputs": [
        {
          "output_type": "stream",
          "text": [
            "sequential_array_to_exclude_end: [4.         4.16666667 4.33333333 4.5        4.66666667 4.83333333]\n"
          ],
          "name": "stdout"
        }
      ]
    },
    {
      "cell_type": "markdown",
      "metadata": {
        "id": "MkK16mfOOAHx"
      },
      "source": [
        "##### Visualisation \n",
        "Visualising the numpy arrays created using `np.linspace`"
      ]
    },
    {
      "cell_type": "code",
      "metadata": {
        "id": "_-IQgFerN1ZC",
        "colab": {
          "base_uri": "https://localhost:8080/",
          "height": 269
        },
        "outputId": "b8385196-4862-48ed-a201-7918099bbaaa"
      },
      "source": [
        "import matplotlib.pyplot as plt\n",
        "N = 8\n",
        "y = np.zeros(N)\n",
        "x1 = np.linspace(0, 10, N, endpoint=True)\n",
        "x2 = np.linspace(0, 10, N, endpoint=False)\n",
        "plt.plot(x1, y, 'o')\n",
        "plt.plot(x2, y + 0.5, 'o')\n",
        "plt.ylim([-0.5, 1])\n",
        "plt.show()"
      ],
      "execution_count": 17,
      "outputs": [
        {
          "output_type": "display_data",
          "data": {
            "image/png": "[encoded data removed]",
            "text/plain": [
              "<Figure size 432x288 with 1 Axes>"
            ]
          },
          "metadata": {
            "tags": [],
            "needs_background": "light"
          }
        }
      ]
    },
    {
      "cell_type": "markdown",
      "metadata": {
        "id": "o2tMZQRBbJ04"
      },
      "source": [
        "#### np.empty()\n",
        " `np.empty` creates an uninitialized empty array of the given shape. It might contain garbage values.\n"
      ]
    },
    {
      "cell_type": "code",
      "metadata": {
        "id": "SzfP8O6MbHSP",
        "colab": {
          "base_uri": "https://localhost:8080/"
        },
        "outputId": "58ea0d97-bba3-4ee2-d3d6-a5d0619470f4"
      },
      "source": [
        "\n",
        "empty_array = np.empty(4, dtype=int)\n",
        "print(\"empty_array:\",empty_array)"
      ],
      "execution_count": 18,
      "outputs": [
        {
          "output_type": "stream",
          "text": [
            "empty_array: [4632796641680687104 4630263366890291200 4645547458125679821\n",
            " 4643121143826433966]\n"
          ],
          "name": "stdout"
        }
      ]
    },
    {
      "cell_type": "markdown",
      "metadata": {
        "id": "pvWPzqTwbOD6"
      },
      "source": [
        "#### np.random.random()\n",
        "`np.random.random` creates an array of the given shape with random values in the interval [0,1]\n"
      ]
    },
    {
      "cell_type": "code",
      "metadata": {
        "id": "_l-Pu-jLbMcK",
        "colab": {
          "base_uri": "https://localhost:8080/"
        },
        "outputId": "7baaeadd-cb91-433e-d9ec-4e70fb5d390e"
      },
      "source": [
        "\n",
        "random_valued_array = np.random.random(4)\n",
        "print(\"random_valued_array:\",random_valued_array)"
      ],
      "execution_count": 19,
      "outputs": [
        {
          "output_type": "stream",
          "text": [
            "random_valued_array: [0.55451011 0.94689828 0.2837342  0.62337639]\n"
          ],
          "name": "stdout"
        }
      ]
    },
    {
      "cell_type": "markdown",
      "metadata": {
        "id": "cnNHSEflL_RL"
      },
      "source": [
        "### Summary: Creating NumPy Arrays\n",
        "\n",
        "\n",
        "\n"
      ]
    },
    {
      "cell_type": "markdown",
      "metadata": {
        "id": "jMWlCe4fLguA"
      },
      "source": [
        "\n",
        "\n",
        "\n",
        "*   `np.array`\n",
        "*   `np.zeros`, `np.ones`, `np.full`\n",
        "*   `np.arange`, `np.linspace`\n",
        "*   `np.empty`\n",
        "*   `np.random.random`\n",
        "\n",
        "\n",
        "\n",
        "\n",
        "\n"
      ]
    },
    {
      "cell_type": "markdown",
      "metadata": {
        "id": "M-SY77sP7QK5"
      },
      "source": [
        "# New Section"
      ]
    }
  ]
}