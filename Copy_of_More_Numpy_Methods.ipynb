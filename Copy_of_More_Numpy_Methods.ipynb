{
  "nbformat": 4,
  "nbformat_minor": 0,
  "metadata": {
    "colab": {
      "name": "Copy of More Numpy Methods.ipynb",
      "provenance": [],
      "collapsed_sections": [
        "wLDR4ik0O7aj"
      ],
      "toc_visible": true,
      "include_colab_link": true
    },
    "kernelspec": {
      "name": "python3",
      "display_name": "Python 3"
    }
  },
  "cells": [
    {
      "cell_type": "markdown",
      "metadata": {
        "id": "view-in-github",
        "colab_type": "text"
      },
      "source": [
        "<a href=\"https://colab.research.google.com/github/nike-2001/numpy/blob/main/Copy_of_More_Numpy_Methods.ipynb\" target=\"_parent\"><img src=\"https://colab.research.google.com/assets/colab-badge.svg\" alt=\"Open In Colab\"/></a>"
      ]
    },
    {
      "cell_type": "code",
      "metadata": {
        "id": "Uv1uyYeEWAOD"
      },
      "source": [
        "import numpy as np"
      ],
      "execution_count": 1,
      "outputs": []
    },
    {
      "cell_type": "markdown",
      "metadata": {
        "id": "RrLpxgE-bH4A"
      },
      "source": [
        "# Padding with Different Pad Widths"
      ]
    },
    {
      "cell_type": "markdown",
      "metadata": {
        "id": "VjHGwgTtn8TX"
      },
      "source": [
        "* `numpy.pad(array, pad_width, mode='constant', **kwargs)`\n",
        "  * `pad_width` is the number of values padded to the edges of each axis.\n",
        "  * Output is padded array of rank equal to `array`, with shape increased according to `pad_width`. \n"
      ]
    },
    {
      "cell_type": "code",
      "metadata": {
        "id": "1jtTpf1lbMg-"
      },
      "source": [
        "array_2D = np.array([['A', 'B', 'C'], \n",
        "                  ['D', 'E', 'F'],\n",
        "                  ['G', 'H', 'I']])"
      ],
      "execution_count": 2,
      "outputs": []
    },
    {
      "cell_type": "markdown",
      "metadata": {
        "id": "e_wB3VUBbOth"
      },
      "source": [
        "Padding with 'constant' mode"
      ]
    },
    {
      "cell_type": "code",
      "metadata": {
        "id": "RFESzPj9bOSD",
        "colab": {
          "base_uri": "https://localhost:8080/"
        },
        "outputId": "8be63cb7-28da-443b-c3f3-5fa9c697d167"
      },
      "source": [
        "np.pad(array_2D, pad_width=((1, 2),(3, 1)), mode='constant', constant_values=(('X', 'Y'),('W', 'Z')))"
      ],
      "execution_count": 3,
      "outputs": [
        {
          "output_type": "execute_result",
          "data": {
            "text/plain": [
              "array([['W', 'W', 'W', 'X', 'X', 'X', 'Z'],\n",
              "       ['W', 'W', 'W', 'A', 'B', 'C', 'Z'],\n",
              "       ['W', 'W', 'W', 'D', 'E', 'F', 'Z'],\n",
              "       ['W', 'W', 'W', 'G', 'H', 'I', 'Z'],\n",
              "       ['W', 'W', 'W', 'Y', 'Y', 'Y', 'Z'],\n",
              "       ['W', 'W', 'W', 'Y', 'Y', 'Y', 'Z']], dtype='<U1')"
            ]
          },
          "metadata": {
            "tags": []
          },
          "execution_count": 3
        }
      ]
    },
    {
      "cell_type": "markdown",
      "metadata": {
        "id": "FmknRzgWbjlS"
      },
      "source": [
        "Pad with 'edge' mode"
      ]
    },
    {
      "cell_type": "code",
      "metadata": {
        "id": "uGDUwwiCbjAw",
        "colab": {
          "base_uri": "https://localhost:8080/"
        },
        "outputId": "f493167d-4ae4-47a0-a41a-d78b2e8af8aa"
      },
      "source": [
        "np.pad(array_2D, ((1, 2),(3, 1)), 'edge')"
      ],
      "execution_count": 4,
      "outputs": [
        {
          "output_type": "execute_result",
          "data": {
            "text/plain": [
              "array([['A', 'A', 'A', 'A', 'B', 'C', 'C'],\n",
              "       ['A', 'A', 'A', 'A', 'B', 'C', 'C'],\n",
              "       ['D', 'D', 'D', 'D', 'E', 'F', 'F'],\n",
              "       ['G', 'G', 'G', 'G', 'H', 'I', 'I'],\n",
              "       ['G', 'G', 'G', 'G', 'H', 'I', 'I'],\n",
              "       ['G', 'G', 'G', 'G', 'H', 'I', 'I']], dtype='<U1')"
            ]
          },
          "metadata": {
            "tags": []
          },
          "execution_count": 4
        }
      ]
    },
    {
      "cell_type": "markdown",
      "metadata": {
        "id": "ALGnnH8cgpYF"
      },
      "source": [
        "# More Numpy Methods"
      ]
    },
    {
      "cell_type": "markdown",
      "metadata": {
        "id": "QPOaieYpwZ1M"
      },
      "source": [
        "### **`np.unique`**"
      ]
    },
    {
      "cell_type": "markdown",
      "metadata": {
        "id": "IbKMzujPwg6M"
      },
      "source": [
        "\n",
        "\n",
        "*   `np.unique(arr, return_index=False, return_inverse=False, return_counts=False, axis=None)`\n",
        "  *   Returns the sorted unique elements of an array.\n",
        "\n"
      ]
    },
    {
      "cell_type": "code",
      "metadata": {
        "id": "0o1oaX_xxAlS",
        "colab": {
          "base_uri": "https://localhost:8080/"
        },
        "outputId": "cdd5fca7-73d4-4ebe-aa83-2a2ee3b86a3a"
      },
      "source": [
        "a = np.array([1, 3, 3, 1, 2, 1])\n",
        "np.unique(a)"
      ],
      "execution_count": 5,
      "outputs": [
        {
          "output_type": "execute_result",
          "data": {
            "text/plain": [
              "array([1, 2, 3])"
            ]
          },
          "metadata": {
            "tags": []
          },
          "execution_count": 5
        }
      ]
    },
    {
      "cell_type": "markdown",
      "metadata": {
        "id": "szulkWFNxXmx"
      },
      "source": [
        "* If `return_index = True`, it returns the indices of the first occurrences of the unique values in the original array, along with the unique sorted array."
      ]
    },
    {
      "cell_type": "code",
      "metadata": {
        "id": "plyINcdJxxxU",
        "colab": {
          "base_uri": "https://localhost:8080/"
        },
        "outputId": "ac5c9bb0-62c2-41d6-be64-14e39912f5bb"
      },
      "source": [
        "unique_array, first_indices = np.unique(a, return_index = True)\n",
        "unique_array, first_indices"
      ],
      "execution_count": 6,
      "outputs": [
        {
          "output_type": "execute_result",
          "data": {
            "text/plain": [
              "(array([1, 2, 3]), array([0, 4, 1]))"
            ]
          },
          "metadata": {
            "tags": []
          },
          "execution_count": 6
        }
      ]
    },
    {
      "cell_type": "markdown",
      "metadata": {
        "id": "mKNAJbimzxsA"
      },
      "source": [
        "* If `return_counts = True`, it returns the number of times each of the unique values comes up in the original array. "
      ]
    },
    {
      "cell_type": "code",
      "metadata": {
        "id": "H3gddXV3z_nw",
        "colab": {
          "base_uri": "https://localhost:8080/"
        },
        "outputId": "4b0e6b75-c2d3-4a45-d589-bc55622413b1"
      },
      "source": [
        "a = np.array([1, 3, 3, 1, 2, 1])\n",
        "np.unique(a, return_counts = True)"
      ],
      "execution_count": 7,
      "outputs": [
        {
          "output_type": "execute_result",
          "data": {
            "text/plain": [
              "(array([1, 2, 3]), array([3, 1, 2]))"
            ]
          },
          "metadata": {
            "tags": []
          },
          "execution_count": 7
        }
      ]
    },
    {
      "cell_type": "markdown",
      "metadata": {
        "id": "OH5VcIRC0SnA"
      },
      "source": [
        "The following code returns the unique rows of a 2D array:"
      ]
    },
    {
      "cell_type": "code",
      "metadata": {
        "id": "75JIXI9e0V2Z",
        "colab": {
          "base_uri": "https://localhost:8080/"
        },
        "outputId": "c0eee791-7124-44a8-fa7f-18ebde63b6d5"
      },
      "source": [
        "a = np.array([[1, 2, 1],\n",
        "              [1, 2, 1],\n",
        "              [3, 2, 4]])\n",
        "\n",
        "np.unique(a, axis=0)"
      ],
      "execution_count": 8,
      "outputs": [
        {
          "output_type": "execute_result",
          "data": {
            "text/plain": [
              "array([[1, 2, 1],\n",
              "       [3, 2, 4]])"
            ]
          },
          "metadata": {
            "tags": []
          },
          "execution_count": 8
        }
      ]
    },
    {
      "cell_type": "markdown",
      "metadata": {
        "id": "IWORGEvxynZs"
      },
      "source": [
        "* If `return_inverse = True`, it returns the indices to reconstruct the original array from the unique array."
      ]
    },
    {
      "cell_type": "code",
      "metadata": {
        "id": "XcJ-afsMy9bT",
        "colab": {
          "base_uri": "https://localhost:8080/"
        },
        "outputId": "83ff9ccf-d2be-469c-a6ef-c88fc4189bcd"
      },
      "source": [
        "a = np.array([1, 3, 3, 1, 2, 1])\n",
        "unique_array, indices = np.unique(a, return_inverse = True)\n",
        "\n",
        "print(\"original array:\\n \", a, \"\\n\")\n",
        "print(\"indices:\\n\", indices, \"\\n\" )\n",
        "print(\"reconstructed original array using fancy indexing:\\n\", unique_array[indices])"
      ],
      "execution_count": 9,
      "outputs": [
        {
          "output_type": "stream",
          "text": [
            "original array:\n",
            "  [1 3 3 1 2 1] \n",
            "\n",
            "indices:\n",
            " [0 2 2 0 1 0] \n",
            "\n",
            "reconstructed original array using fancy indexing:\n",
            " [1 3 3 1 2 1]\n"
          ],
          "name": "stdout"
        }
      ]
    },
    {
      "cell_type": "markdown",
      "metadata": {
        "id": "eZd5VkA34sY3"
      },
      "source": [
        "### **`np.where`**"
      ]
    },
    {
      "cell_type": "markdown",
      "metadata": {
        "id": "EEm_1Exp45Zd"
      },
      "source": [
        "* `numpy.where(condition[, x, y])`\n",
        "  * For all the elements where the condition is `True`, the returned array has the corresponding elements chosen from `x`. \n",
        "  * For all the elements where the condition is `False`, the returned array has the corresponding elements chosen from `y`."
      ]
    },
    {
      "cell_type": "code",
      "metadata": {
        "id": "M7d-Yb8CioNG"
      },
      "source": [
        "np.where?"
      ],
      "execution_count": 10,
      "outputs": []
    },
    {
      "cell_type": "code",
      "metadata": {
        "id": "QEc3OIvK5hYg",
        "colab": {
          "base_uri": "https://localhost:8080/"
        },
        "outputId": "b8a72c95-f912-4f11-f454-0819fb5ae822"
      },
      "source": [
        "a = np.arange(5)\n",
        "np.where(a > 2, [11, 12, 13, 14, 15], [111, 222, 333, 444, 555])"
      ],
      "execution_count": 11,
      "outputs": [
        {
          "output_type": "execute_result",
          "data": {
            "text/plain": [
              "array([111, 222, 333,  14,  15])"
            ]
          },
          "metadata": {
            "tags": []
          },
          "execution_count": 11
        }
      ]
    },
    {
      "cell_type": "code",
      "metadata": {
        "id": "3a28dAFujeGQ",
        "colab": {
          "base_uri": "https://localhost:8080/"
        },
        "outputId": "c5ac9420-f4c4-4be5-82c1-4993c086cb0f"
      },
      "source": [
        "a = np.arange(10)\n",
        "np.where(a > 7, 0, 100)"
      ],
      "execution_count": 12,
      "outputs": [
        {
          "output_type": "execute_result",
          "data": {
            "text/plain": [
              "array([100, 100, 100, 100, 100, 100, 100, 100,   0,   0])"
            ]
          },
          "metadata": {
            "tags": []
          },
          "execution_count": 12
        }
      ]
    },
    {
      "cell_type": "code",
      "metadata": {
        "id": "w3tWQnlXjl9H",
        "colab": {
          "base_uri": "https://localhost:8080/"
        },
        "outputId": "f4578817-346c-42a5-ecc2-b032e6c7b6c8"
      },
      "source": [
        "a = np.arange(10)\n",
        "np.where(a > 5, a*2, a*a)"
      ],
      "execution_count": 13,
      "outputs": [
        {
          "output_type": "execute_result",
          "data": {
            "text/plain": [
              "array([ 0,  1,  4,  9, 16, 25, 12, 14, 16, 18])"
            ]
          },
          "metadata": {
            "tags": []
          },
          "execution_count": 13
        }
      ]
    },
    {
      "cell_type": "code",
      "metadata": {
        "id": "mGn4jQy56gtZ",
        "colab": {
          "base_uri": "https://localhost:8080/"
        },
        "outputId": "0425b06d-e507-4969-eb05-ee9f857f111f"
      },
      "source": [
        "a = np.array([[1, 2, 3],\n",
        "              [4, 5, 6]])\n",
        "\n",
        "np.where(a < 5, a , 0)"
      ],
      "execution_count": 14,
      "outputs": [
        {
          "output_type": "execute_result",
          "data": {
            "text/plain": [
              "array([[1, 2, 3],\n",
              "       [4, 0, 0]])"
            ]
          },
          "metadata": {
            "tags": []
          },
          "execution_count": 14
        }
      ]
    },
    {
      "cell_type": "markdown",
      "metadata": {
        "id": "LVIvdngF9U_L"
      },
      "source": [
        "**Comparison can also be done between two different arrays**"
      ]
    },
    {
      "cell_type": "code",
      "metadata": {
        "id": "DeX3uOws9j-J",
        "colab": {
          "base_uri": "https://localhost:8080/"
        },
        "outputId": "8e3c42d5-4eaa-4554-a22d-b93888dc3b72"
      },
      "source": [
        "a = np.array([[1, 2, 3],\n",
        "              [4, 5, 6]])\n",
        "\n",
        "b = np.ones([2, 3]) * 4\n",
        "\n",
        "print(\"a: \\n\", a, \"\\n\")\n",
        "print(\"b: \\n\", b, \"\\n\")\n",
        "\n",
        "print(\"np.where result:\\n\", np.where(a < b, a , 0))"
      ],
      "execution_count": 15,
      "outputs": [
        {
          "output_type": "stream",
          "text": [
            "a: \n",
            " [[1 2 3]\n",
            " [4 5 6]] \n",
            "\n",
            "b: \n",
            " [[4. 4. 4.]\n",
            " [4. 4. 4.]] \n",
            "\n",
            "np.where result:\n",
            " [[1 2 3]\n",
            " [0 0 0]]\n"
          ],
          "name": "stdout"
        }
      ]
    },
    {
      "cell_type": "markdown",
      "metadata": {
        "id": "atYBIrJ689BN"
      },
      "source": [
        "**When the two arrays are of different shapes, they are broadcast together before applying the operation**"
      ]
    },
    {
      "cell_type": "code",
      "metadata": {
        "id": "IBL3SbYW7oEQ",
        "colab": {
          "base_uri": "https://localhost:8080/"
        },
        "outputId": "061b6a80-ff0f-48d9-a627-efd32aa7e0f3"
      },
      "source": [
        "x = np.array([[0],\n",
        "              [1],\n",
        "              [2]])\n",
        "\n",
        "y = np.array([[3, 4, 5, 6]])\n",
        "\n",
        "np.where(x < y, x, 10 + y)"
      ],
      "execution_count": 16,
      "outputs": [
        {
          "output_type": "execute_result",
          "data": {
            "text/plain": [
              "array([[0, 0, 0, 0],\n",
              "       [1, 1, 1, 1],\n",
              "       [2, 2, 2, 2]])"
            ]
          },
          "metadata": {
            "tags": []
          },
          "execution_count": 16
        }
      ]
    },
    {
      "cell_type": "markdown",
      "metadata": {
        "id": "jJ-Pb46g_dgC"
      },
      "source": [
        "### **`np.any`**"
      ]
    },
    {
      "cell_type": "markdown",
      "metadata": {
        "id": "mRLtdzmH_gm6"
      },
      "source": [
        "* `numpy.any(a, axis=None)`\n",
        "  * Tests whether **any** of the array elements along the given `axis` evaluates to `True`.\n",
        "  * Returns a new boolean ndarray."
      ]
    },
    {
      "cell_type": "code",
      "metadata": {
        "id": "ovM_V3tHEEBa",
        "colab": {
          "base_uri": "https://localhost:8080/"
        },
        "outputId": "eede058e-19c6-4e84-8cb4-ecc1df6fffcb"
      },
      "source": [
        "a = np.array([False, True, True, False])\n",
        "np.any(a)"
      ],
      "execution_count": 17,
      "outputs": [
        {
          "output_type": "execute_result",
          "data": {
            "text/plain": [
              "True"
            ]
          },
          "metadata": {
            "tags": []
          },
          "execution_count": 17
        }
      ]
    },
    {
      "cell_type": "code",
      "metadata": {
        "id": "4f1Ifc8rANDJ",
        "colab": {
          "base_uri": "https://localhost:8080/"
        },
        "outputId": "5781555b-5021-42b2-cfaa-ed31d4f9e781"
      },
      "source": [
        "a = np.array([1, 0, 0, 2])\n",
        "np.any(a)"
      ],
      "execution_count": 18,
      "outputs": [
        {
          "output_type": "execute_result",
          "data": {
            "text/plain": [
              "True"
            ]
          },
          "metadata": {
            "tags": []
          },
          "execution_count": 18
        }
      ]
    },
    {
      "cell_type": "code",
      "metadata": {
        "id": "FVA0rHEbAWbc",
        "colab": {
          "base_uri": "https://localhost:8080/"
        },
        "outputId": "8a9218a9-af48-46b9-efa5-407e9a427733"
      },
      "source": [
        "a = np.array([0, 0, 0, 0])\n",
        "np.any(a)"
      ],
      "execution_count": 19,
      "outputs": [
        {
          "output_type": "execute_result",
          "data": {
            "text/plain": [
              "False"
            ]
          },
          "metadata": {
            "tags": []
          },
          "execution_count": 19
        }
      ]
    },
    {
      "cell_type": "code",
      "metadata": {
        "id": "w0MULv5XAdWw",
        "colab": {
          "base_uri": "https://localhost:8080/"
        },
        "outputId": "7a789a22-5ea7-4858-ab6d-69aa08f9efcb"
      },
      "source": [
        "a = np.array([[1, 0, 3, 4],\n",
        "              [2, 0, 6, 5]])\n",
        "\n",
        "resultant_array_0 = np.any(a, axis=0)\n",
        "print(\"resultant array along axis 0:\\n\",resultant_array_0,\"\\n\")\n",
        "\n",
        "resultant_array_1 = np.any(a, axis=1)\n",
        "print(\"resultant array along axis 1:\\n\",resultant_array_1,\"\\n\")\n",
        "\n",
        "resultant_array_none = np.any(a)\n",
        "print(\"resultant array along axis none:\\n\",resultant_array_none,\"\\n\")"
      ],
      "execution_count": 20,
      "outputs": [
        {
          "output_type": "stream",
          "text": [
            "resultant array along axis 0:\n",
            " [ True False  True  True] \n",
            "\n",
            "resultant array along axis 1:\n",
            " [ True  True] \n",
            "\n",
            "resultant array along axis none:\n",
            " True \n",
            "\n"
          ],
          "name": "stdout"
        }
      ]
    },
    {
      "cell_type": "markdown",
      "metadata": {
        "id": "VLce1hO-Cifw"
      },
      "source": [
        "### **`np.all`**"
      ]
    },
    {
      "cell_type": "markdown",
      "metadata": {
        "id": "ivCP4PWKCmVY"
      },
      "source": [
        "\n",
        "\n",
        "*   `numpy.all(a, axis=None, out=None)`\n",
        "  *   Tests whether **all** of the array elements along the given `axis` evaluate to `True`.\n",
        "  *   Returns a new boolean ndarray.\n",
        "\n"
      ]
    },
    {
      "cell_type": "code",
      "metadata": {
        "id": "1nXMoTLpC8sL",
        "colab": {
          "base_uri": "https://localhost:8080/"
        },
        "outputId": "51b6c8ca-dc07-450c-b753-78353751e46e"
      },
      "source": [
        "a = np.array([1, 2, 3, 0])\n",
        "\n",
        "result_any = np.any(a)\n",
        "result_all = np.all(a)\n",
        "\n",
        "print(\"result using any:\\n\", result_any, \"\\n\")\n",
        "print(\"result using all:\\n\", result_all, \"\\n\")"
      ],
      "execution_count": 21,
      "outputs": [
        {
          "output_type": "stream",
          "text": [
            "result using any:\n",
            " True \n",
            "\n",
            "result using all:\n",
            " False \n",
            "\n"
          ],
          "name": "stdout"
        }
      ]
    },
    {
      "cell_type": "code",
      "metadata": {
        "id": "JmHx2z1CDlUe",
        "colab": {
          "base_uri": "https://localhost:8080/"
        },
        "outputId": "b940905f-dbbc-4914-ce0e-0d88ad125bb4"
      },
      "source": [
        "a = np.array([[1, 0, 3, 4],\n",
        "              [2, 0, 6, 5]])\n",
        "\n",
        "resultant_array_0 = np.all(a, axis=0)\n",
        "print(\"resultant_array_along_axis_0:\\n\",resultant_array_0,\"\\n\")\n",
        "\n",
        "resultant_array_1 = np.all(a, axis=1)\n",
        "print(\"resultant_array_along_axis_1:\\n\",resultant_array_1,\"\\n\")\n",
        "\n",
        "resultant_array_none = np.all(a)\n",
        "print(\"resultant_array_along_axis_none:\\n\",resultant_array_none,\"\\n\")"
      ],
      "execution_count": 22,
      "outputs": [
        {
          "output_type": "stream",
          "text": [
            "resultant_array_along_axis_0:\n",
            " [ True False  True  True] \n",
            "\n",
            "resultant_array_along_axis_1:\n",
            " [False False] \n",
            "\n",
            "resultant_array_along_axis_none:\n",
            " False \n",
            "\n"
          ],
          "name": "stdout"
        }
      ]
    },
    {
      "cell_type": "markdown",
      "metadata": {
        "id": "wLDR4ik0O7aj"
      },
      "source": [
        "### **np.nan**"
      ]
    },
    {
      "cell_type": "markdown",
      "metadata": {
        "id": "Bd9wC2pFO-s5"
      },
      "source": [
        "* `numpy.nan` \n",
        "  * IEEE 754 floating point representation of **N**ot **a** **N**umber(NaN)."
      ]
    },
    {
      "cell_type": "code",
      "metadata": {
        "id": "fa6B3_YfPrAr",
        "colab": {
          "base_uri": "https://localhost:8080/"
        },
        "outputId": "adad83ed-8520-4e84-d406-675bae7c83c2"
      },
      "source": [
        "a = np.array([0]) / 0\n",
        "a"
      ],
      "execution_count": 23,
      "outputs": [
        {
          "output_type": "stream",
          "text": [
            "/usr/local/lib/python3.6/dist-packages/ipykernel_launcher.py:1: RuntimeWarning: invalid value encountered in true_divide\n",
            "  \"\"\"Entry point for launching an IPython kernel.\n"
          ],
          "name": "stderr"
        },
        {
          "output_type": "execute_result",
          "data": {
            "text/plain": [
              "array([nan])"
            ]
          },
          "metadata": {
            "tags": []
          },
          "execution_count": 23
        }
      ]
    },
    {
      "cell_type": "markdown",
      "metadata": {
        "id": "x7y7_HyOQqhI"
      },
      "source": [
        "**We can not compare two NaNs**"
      ]
    },
    {
      "cell_type": "code",
      "metadata": {
        "id": "13rfHoJYQcVG",
        "colab": {
          "base_uri": "https://localhost:8080/"
        },
        "outputId": "a382e666-a30d-49e5-e731-99ce5c74a9e2"
      },
      "source": [
        "np.nan == np.nan"
      ],
      "execution_count": 24,
      "outputs": [
        {
          "output_type": "execute_result",
          "data": {
            "text/plain": [
              "False"
            ]
          },
          "metadata": {
            "tags": []
          },
          "execution_count": 24
        }
      ]
    },
    {
      "cell_type": "markdown",
      "metadata": {
        "id": "oZnvFfxAP62p"
      },
      "source": [
        "### **np.inf**"
      ]
    },
    {
      "cell_type": "markdown",
      "metadata": {
        "id": "AkVKo0iLP_cX"
      },
      "source": [
        "* `numpy.inf` \n",
        "  * IEEE 754 floating point representation of **(positive) infinity**."
      ]
    },
    {
      "cell_type": "code",
      "metadata": {
        "id": "Uazm1vHWQQVy",
        "colab": {
          "base_uri": "https://localhost:8080/"
        },
        "outputId": "feab069c-89e7-4e68-f543-b1b59dc2383f"
      },
      "source": [
        "a = np.array([1]) / 0\n",
        "a"
      ],
      "execution_count": 25,
      "outputs": [
        {
          "output_type": "stream",
          "text": [
            "/usr/local/lib/python3.6/dist-packages/ipykernel_launcher.py:1: RuntimeWarning: divide by zero encountered in true_divide\n",
            "  \"\"\"Entry point for launching an IPython kernel.\n"
          ],
          "name": "stderr"
        },
        {
          "output_type": "execute_result",
          "data": {
            "text/plain": [
              "array([inf])"
            ]
          },
          "metadata": {
            "tags": []
          },
          "execution_count": 25
        }
      ]
    },
    {
      "cell_type": "markdown",
      "metadata": {
        "id": "w0K23L-lQxQh"
      },
      "source": [
        "Comparing two inf numbers."
      ]
    },
    {
      "cell_type": "code",
      "metadata": {
        "id": "nof6Zu7KQjSD",
        "colab": {
          "base_uri": "https://localhost:8080/"
        },
        "outputId": "f6f3d039-5bca-442a-fed2-1760f2d99bdb"
      },
      "source": [
        "np.inf == np.inf"
      ],
      "execution_count": 26,
      "outputs": [
        {
          "output_type": "execute_result",
          "data": {
            "text/plain": [
              "True"
            ]
          },
          "metadata": {
            "tags": []
          },
          "execution_count": 26
        }
      ]
    }
  ]
}