{
  "nbformat": 4,
  "nbformat_minor": 0,
  "metadata": {
    "colab": {
      "name": "Copy of NumPy Coding Assignment 1.ipynb",
      "provenance": [],
      "collapsed_sections": [
        "Eex4q4AxIdON",
        "ho2WbQgIKcWP",
        "Y_yfrD1jNV_J",
        "Vd3oNpfq2Hzw",
        "Ahr1D1FaeSGc",
        "X0GuH54eqvH4",
        "-n66-P-yUnem",
        "yi43LOz7qVGY"
      ],
      "include_colab_link": true
    },
    "kernelspec": {
      "display_name": "Python 3",
      "name": "python3"
    }
  },
  "cells": [
    {
      "cell_type": "markdown",
      "metadata": {
        "id": "view-in-github",
        "colab_type": "text"
      },
      "source": [
        "<a href=\"https://colab.research.google.com/github/nike-2001/numpy/blob/main/Copy_of_NumPy_Coding_Assignment_1.ipynb\" target=\"_parent\"><img src=\"https://colab.research.google.com/assets/colab-badge.svg\" alt=\"Open In Colab\"/></a>"
      ]
    },
    {
      "cell_type": "code",
      "metadata": {
        "id": "0224af72-a08e-473e-a4a7-09a3ab443bfe"
      },
      "source": [
        "import numpy as np"
      ],
      "execution_count": 1,
      "outputs": []
    },
    {
      "cell_type": "markdown",
      "metadata": {
        "id": "JAzeXh2UBn1r"
      },
      "source": [
        "### 1. Chessboard Pattern\n",
        "\n",
        "Implement the `chessboard_pattern()` function, which creates an `n x n` 2D array filled with **`1s`** in a **chessboard** pattern. \n",
        "* Array starts with value `1`, i.e. `array[0,0]` should be `1`.\n",
        "\n",
        "![checker_board_image.png](data:image/png;base64,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)\n",
        "\n",
        "**Argument**:\n",
        "**`n`**\n",
        "  * It represents the number of rows and the number of columns in a 2D numpy array\n",
        "  * A positive integer (>= 2)\n",
        "\n",
        "**Returns**:\n",
        "* A 2D numpy array of integers which is filled with **`1s`** and **`0s`** in chessboard pattern."
      ]
    },
    {
      "cell_type": "code",
      "metadata": {
        "id": "192761c7-9ec6-4cd2-aa62-2a96bead6dec"
      },
      "source": [
        "def chessboard_pattern(n):\n",
        "   #ADD YOUR CODE HERE\n",
        "   array_2d = np.ones((n,n),dtype=int)\n",
        "   array_2d[0::2,1::2] = 0\n",
        "   array_2d[1::2,0::2] = 0\n",
        "   return array_2d   "
      ],
      "execution_count": 2,
      "outputs": []
    },
    {
      "cell_type": "code",
      "metadata": {
        "colab": {
          "base_uri": "https://localhost:8080/"
        },
        "id": "nMblQ7vcEMEp",
        "outputId": "5e39ab78-f173-4056-9f16-0d01a1e59601"
      },
      "source": [
        "#SAMPLE TEST CASE\n",
        "n = 8\n",
        "array = chessboard_pattern(n)\n",
        "print(array)"
      ],
      "execution_count": 3,
      "outputs": [
        {
          "output_type": "stream",
          "text": [
            "[[1 0 1 0 1 0 1 0]\n",
            " [0 1 0 1 0 1 0 1]\n",
            " [1 0 1 0 1 0 1 0]\n",
            " [0 1 0 1 0 1 0 1]\n",
            " [1 0 1 0 1 0 1 0]\n",
            " [0 1 0 1 0 1 0 1]\n",
            " [1 0 1 0 1 0 1 0]\n",
            " [0 1 0 1 0 1 0 1]]\n"
          ],
          "name": "stdout"
        }
      ]
    },
    {
      "cell_type": "markdown",
      "metadata": {
        "id": "jFvj4Q_Npubs"
      },
      "source": [
        "**Expected Output**:\n",
        "```\n",
        "[[1 0 1 0 1 0 1 0]\n",
        " [0 1 0 1 0 1 0 1]\n",
        " [1 0 1 0 1 0 1 0]\n",
        " [0 1 0 1 0 1 0 1]\n",
        " [1 0 1 0 1 0 1 0]\n",
        " [0 1 0 1 0 1 0 1]\n",
        " [1 0 1 0 1 0 1 0]\n",
        " [0 1 0 1 0 1 0 1]]\n",
        " ```"
      ]
    },
    {
      "cell_type": "markdown",
      "metadata": {
        "id": "Eex4q4AxIdON"
      },
      "source": [
        "### 2. Y Pattern\n",
        "\n",
        "Implement the `Y_pattern()` function, which creates an `n x n` 2D array filled with `**1s**` in a **Y** pattern. \n",
        "\n",
        "![y_pattern_image.png](data:image/png;base64,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)\n",
        "\n",
        "**Argument**: **`n`** \n",
        "  * It represents the number of rows and the number of columns in a 2D numpy array\n",
        "  * An odd integer (>= 3)\n",
        "\n",
        "**Returns**:\n",
        "* A 2D numpy array of integers which is filled with **`1s`** and **`0s`** in the Y pattern."
      ]
    },
    {
      "cell_type": "code",
      "metadata": {
        "id": "bc8e26b0-9f26-46e7-b33c-d8545d300ac3"
      },
      "source": [
        "def Y_pattern(n):\n",
        "   #ADD YOUR CODE HERE\n",
        "   array = np.zeros((n, n), dtype=int)\n",
        "   array[np.arange(n-1, -1, -1), np.arange(0, n, 1)] = 1\n",
        "   array[np.arange(0, n//2, 1), np.arange(0, n//2, 1)] = 1\n",
        "   return array \n",
        "   "
      ],
      "execution_count": 4,
      "outputs": []
    },
    {
      "cell_type": "code",
      "metadata": {
        "colab": {
          "base_uri": "https://localhost:8080/"
        },
        "id": "HZTeAYHYJWcG",
        "outputId": "efd0bdb9-ccb4-4275-f51d-2904989a86ff"
      },
      "source": [
        "#SAMPLE TEST CASE\n",
        "n = 5\n",
        "array = Y_pattern(n)\n",
        "print(array)"
      ],
      "execution_count": 5,
      "outputs": [
        {
          "output_type": "stream",
          "text": [
            "[[1 0 0 0 1]\n",
            " [0 1 0 1 0]\n",
            " [0 0 1 0 0]\n",
            " [0 1 0 0 0]\n",
            " [1 0 0 0 0]]\n"
          ],
          "name": "stdout"
        }
      ]
    },
    {
      "cell_type": "markdown",
      "metadata": {
        "id": "M2RXUbIOp4nh"
      },
      "source": [
        "**Expected Output**:\n",
        "```\n",
        "[[1 0 0 0 1]\n",
        " [0 1 0 1 0]\n",
        " [0 0 1 0 0]\n",
        " [0 1 0 0 0]\n",
        " [1 0 0 0 0]]\n",
        "```"
      ]
    },
    {
      "cell_type": "markdown",
      "metadata": {
        "id": "ho2WbQgIKcWP"
      },
      "source": [
        "### 3. T Pattern\n",
        "\n",
        "Implement the `T_pattern()` function, which creates a `num_rows x num_cols` 2D array with ones filled in a **T** pattern. \n",
        "\n",
        "![T_pattern_image.png](data:image/png;base64,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)\n",
        "\n",
        "**Arguments**:\n",
        "\n",
        "* **`num_rows`** \n",
        "  * It represents the number of rows in the 2D numpy array\n",
        "  * An integer (>= 3)\n",
        "\n",
        "* **`num_cols`** \n",
        "  * It represents the number of columns in the 2D numpy array\n",
        "  * An odd integer (>= 3)\n",
        "\n",
        "**Returns**:\n",
        "* A 2D numpy array of integers which is filled with **`1s`** and **`0s`** in the T pattern."
      ]
    },
    {
      "cell_type": "code",
      "metadata": {
        "id": "c0f0169a-e9bb-4473-b47a-68424fce737e"
      },
      "source": [
        "def T_pattern(num_rows, num_cols):\n",
        "   #ADD YOUR CODE HERE\n",
        "   array_2d = np.zeros((num_rows,num_cols),dtype=int)\n",
        "   array_2d[0] = 1\n",
        "   array_2d[:,num_cols//2] = 1\n",
        "   return array_2d\n",
        "   "
      ],
      "execution_count": 6,
      "outputs": []
    },
    {
      "cell_type": "code",
      "metadata": {
        "colab": {
          "base_uri": "https://localhost:8080/"
        },
        "id": "JJTdy41xMC6E",
        "outputId": "faf3c9f0-dc9e-45bd-8558-860ea28d8a27"
      },
      "source": [
        "# SAMPLE TEST CASE\n",
        "num_rows = 5\n",
        "num_cols = 5\n",
        "array = T_pattern(num_rows, num_cols)\n",
        "print(array)"
      ],
      "execution_count": 7,
      "outputs": [
        {
          "output_type": "stream",
          "text": [
            "[[1 1 1 1 1]\n",
            " [0 0 1 0 0]\n",
            " [0 0 1 0 0]\n",
            " [0 0 1 0 0]\n",
            " [0 0 1 0 0]]\n"
          ],
          "name": "stdout"
        }
      ]
    },
    {
      "cell_type": "markdown",
      "metadata": {
        "id": "5QMX95Mxpw4U"
      },
      "source": [
        " **Expected Output**:\n",
        "```\n",
        "[[1 1 1 1 1]\n",
        " [0 0 1 0 0]\n",
        " [0 0 1 0 0]\n",
        " [0 0 1 0 0]\n",
        " [0 0 1 0 0]]\n",
        "```"
      ]
    },
    {
      "cell_type": "markdown",
      "metadata": {
        "id": "Y_yfrD1jNV_J"
      },
      "source": [
        "### 4. Closed Pattern\n",
        "\n",
        "Implement the `closed_pattern()` function, which creates a `num_rows x num_cols` 2D array with ones filled in a **Closed** pattern. \n",
        "\n",
        "![closed_pattern_image.png](data:image/png;base64,iVBORw0KGgoAAAANSUhEUgAAAJcAAACdCAYAAAC5BOofAAAABHNCSVQICAgIfAhkiAAAABl0RVh0U29mdHdhcmUAZ25vbWUtc2NyZWVuc2hvdO8Dvz4AAAuHSURBVHic7d1PbJP3Hcfx92PCk4dhyJNoJQ+iY04AydKGZKjGXKkSXqe2qURLVKHKJ5ZDD1HLwb2gqKog4pSe8AFVUdVDVE1TJJgUwWFmU9doayd3/WdEFVIElVs6eEggeRIMPDYhzw6h/NMGlePvb0v5vo4W8HH8fOI8PLY/saIoilBKQOx/fQfUj5eWS4nRcikxTQDT09NcuHCBtrY2Y8Hz8/MEQcDq1atpamoylhsEAY7j4DiOscxKpQJAPB43lnn9+nWq1Squ6xrLnJubY3Z2lo0bN2Lb9kK5xsbGOH36tLE7oX7cWltbWbt27UK52tvbOX36NB3P/A4rZuYn5Y1rs5z7+x9Z+6vnWdHmGckE+Oavf6ClYzNux2Zjmf5nf4FYDG/Lb41lBl+fYObbU/w8kzWWee3yefxPj99+htZzLiVGy6XEaLmUGC2XEqPlUmK0XEqMlkuJ0XIpMYsq19Q/Btj7a4fMM3n8Rt2jh6idG+HQCx6Zzi4KM4ZCw3EKuRQ71rkc+MBQJgFj72XZ3WmR3V80FdrQY1pnuQJK+1O80lekbaOLvcg78UNNFXp45YV+pjYkMfYq3Zkh3tye4aiTxNjrCGGJI7tSHDjqsP5xU6GNP6Z1l6uyoY/8n0fY9QtzL4xWqin2HCuy7+WEsUIzA6mDJd7u78ZrNpRZDbBfHOHdIwNsazEV2vhjWufbERI8tTsBwJmG3I0fZv3OHOsBzhkMfaKHXQChwcyWDC/uBoydbIDEMdUTeiVGy6XEaLmUGC2XElPnCX1IZSKgBkzNhoDP1ISPDdhrPLHLBLUZn0oVapMhNUIqkz5TVbBXe8SF3rX8fSbVgBohTJaZmnCg2aWtRSg0DG4/rhWAmQB/wsfGIb5G6tJP449pfeU6N8je9OuM3b7hLV7d8hbQQtfvA/p+U9e/+hBF3nn2SY58d+eWQ9vXcgjwXvuC4TdSEqGU9ifZe/iuq7Wvd/AhwNaDDB/LiVz7qhzP8tKrx+/c8PnzZA8Dzc+xb6zA0xKdFjim9ZXrZzne/leurr9avzR7Po7YYzh1Wz5gNG82M76zwOhOs5kSx1TPuZQYLZcSo+VSYrRcSoyWS4nRcikxWi4lpgmgVqthWRbh9EWsmGUkeC68hmVZ1K5MYZmJXBBFzF2vEE6bezvL/FwNLMto5tz1CkTzRjNvVKaxLIubN28CYEVRFH300Uc6RKIapqur684QSWtrK5Zl4T3xnNFnrsmTf2Pbtm1Gp5vef/99Ojs76ejoMJb52WefYVkWW7duNZZ59uxZzpa/oT31tLHM6uxlpr76hBUrVgC3fizatk0URTit7UZXbqIooq2tDc8zt3JjWRbxeNxopm3bxGIxo5kXL14EK4bTai5zfn6eKIpYtmwZoCf0SpCWS4nRcikxWi4lRsulxGi5lBgtlxKztIZIghKDPWkSroPluCQyvQyPS38U2md0oJuU52BZDl6yi9xIWTgTyoU+upIejmXheCm6B0aNPMaP6BCJz3BPF33jafLFMtPlUQYSo/R05RgV7Fd5MEtXPiA7PM6F6XFGcg4j2W76SnKZlPro7h7GyY0wfuEC48NZwnw32cGyYOijPERSHiFfcOjJ5+lOerheiuxgnu5gmPxIIBRaYjBfJJkbpC+TwHMTpHuH6M+MM5QfFZqPCBnNDzGe6WewN03C80hk+hjMJSjmB5HrdOOPaZ3lSvDU7izrzf2GE8LSKCVSZO7+BJmTIpMKKRXHZUKDEsWySzqdvOtGl3QmQVAqUhYJLVMsBSQy6Xs+tpZIp3HLRUpS30cCx3TJnNCHgQ+uh3vPF+/iueD7Qo+47xPg4t738pzrehD4yKQGlAPw7v+dPZ6LS4BvcvhmkZZMuR4l//HJw+SEU4MsmXI5nocT+AT3PMgL38meJ3Te53m4BAT3PVv45VvPoiKht56Ny/c9LwYBAR4G31ixaEunXKkMKUoUSne1KyhSGHdIZWQ+yo+bIp0IKN5zTudTLJZx02mS//UvLkaSdNqlXCzecylgvDBKkMiQNjfkuGh1liukMrEwVHH3aMXUxK3hDAlellx3yFBvHyPjPoFfYqi3j4LXQ1+X1P8sUvTm0pQHehkYLeMHZYqDvfQXk+RyGaFMyORyJIt99A4WKQc+5dEBegd9Mn09QoUGiWO6hIZIXLqHCgz29pJLJ/DxSKa7GS7kSQv+rzXRO0Ih7KU3m6Q/cPBSGXKFAn1yRxmSfRRGAnpy3SRzAW4iRaa/wGCP4M/ER3uIBHBS9AwV6TEa6pLODVMy/OV6XQMUxgfMBeoQiVpKtFxKjJZLidFyKTFaLiVGy6XEaLmUGC2XEqNDJKrhdIhEh0gaTodIdIhEjA6RKGO0XEqMlkuJ0XIpMVouJUbLpcRouZQYHSJ5KB0iqZcOkTyEDpHUT4dIHkiHSBZDh0geRIdIFmXJnNDrEIkOkagG0CESw3SIRIdIxOgQiQ6R6BBJA+gQiQ6RyNEhEh0ikaRDJEo9gJZLidFyKTFaLiVGy6XEaLmUGC2XEqPlUmJ0iEQ13D1DJPF4nCiKaN2QAsvMEMn8jSoz34yxadMm4vG4kUyAkydPsmbNGtrb241lnj17Fsuy6OzsNJbp+z4XJy/Rkvilscwb165QOX+G5uZm4NbLPytXrsSyLFo3pIwOkcx+e4pNmzYZHeg4deoU69atY/PmzcYyL126RCwWY8uWLcYyT5w4weT0DG0bzWVeu3yeqxfOsnz5ckDPuZQgLZcSo+VSYrRcSoyWS4nRcikxWi4lRsulxOjKzUPpyk29dOXmIXTlpn66cvNAunKzGLpy8yC6crMoS+aEXldudOVGNYCu3BimKze6ciNGV2505UZXbhpAV2505UaOrtzoyo0kXblR6gG0XEqMlkuJ0XIpMVouJUbLpcRouZQYK4qi6JNPPuHLL7/EaW0HzGxFRPNzVGcu0dbWhm2bebshwMWLF4nH46xcudJY5vT0NACtra3GMiuVCpWr13DcNcYy5+eq1K5Ms2PHDh577LGFi6i2bRNFEU6rZ3SIJAwmqTltzK8wN0SCNcmN5XHCleaGSG7OXAXLIlxp7lXnuZqPdT3EaTOXeePaFaqzUyxbtgz4PxgiWbVuEysMPgBXvj3FT366DrfD3BBJbeYSxGJGR0GCr09w46oOkagfKS2XEqPlUmK0XEqMlkuJ0XIpMVouJUbLpcQsrSESoHZuhEMveGQ6uyjMGAoNxynkUuxY53LgA0OZBIy9l2V3p0V2f9FU6KM6RAJThR5eeaGfqQ1JjL1gdGaIN7dnOOokMfY6QljiyK4UB446rH/cVOijPEQCVKop9hwrsu/lhLFCMwOpgyXe7u/GazaUWQ2wXxzh3SMDbGsxFdr4Y1rfp39I8NTuBABnGnI3fpj1O3OsBzhnMPSJHnaB2Y/Tt2R4cTdg7GQDJI6pntArMVouJUbLpcRouZSYOk/oQyoTATW4Z7TCBuw1nthlgtqMT6UKtcmQGiGVSZ+pKtirPeJCexHfZ1INqBHCZJmpCQeaXdpahELD4PbjWgGYCfAnfGwc4mukLv00/pguoSGSIu88+yRHvrtzy6HtazkEeK99wfAbMjNKpf1J9h6+62rt6x18CLD1IMPHciLXvirHs7z06vE7N3z+PNnDQPNz7Bsr8LREpx/tIZI0ez6O2GM4dVs+YDRvNjO+s8DoTrOZOkSilhQtlxKj5VJitFxKjJZLidFyKTFaLiWmCe4MZVz4tIDJIRKAy+MfE2syN0Ryc67G7LmvuDb53cP/cIPUKguP7/l//slY5lxY4WatajRzfq4KQBiGrFq1aqFczc3N2LaN22ymWAA3b1rM2Darm2M01fkiVD2mbRvHjrHC1HvwgCu1hS9wlcHM6/PLCOeX4xrMvBGLccW2abp1QK0oiiJz8epRoudcSoyWS4nRcikxWi4l5t+H/vo4TstUNwAAAABJRU5ErkJggg==)\n",
        "\n",
        "**Arguments**:\n",
        "\n",
        "* **`num_rows`** \n",
        "  * It represents number of rows in a 2D numpy array\n",
        "  * An integer (>= 3)\n",
        "\n",
        "* **`num_cols`** \n",
        "  * It represents number of columns in a 2D numpy array\n",
        "  * An integer (>= 3)\n",
        "\n",
        "**Returns**:\n",
        "* A 2D numpy array of integers which is filled with **`1s`** and **`0s`**."
      ]
    },
    {
      "cell_type": "code",
      "metadata": {
        "id": "9e2b863a-8b74-40e9-b54d-2df5a120631b"
      },
      "source": [
        "def closed_pattern(num_rows, num_cols):\n",
        "   #ADD YOUR CODE HERE\n",
        "   array = np.zeros((num_rows,num_cols),dtype=int)\n",
        "   array[0,:] = 1\n",
        "   array[num_rows-1,:] = 1\n",
        "   array[:,0] = 1\n",
        "   array[:,num_cols-1] = 1\n",
        "   return array\n",
        "   "
      ],
      "execution_count": 8,
      "outputs": []
    },
    {
      "cell_type": "code",
      "metadata": {
        "colab": {
          "base_uri": "https://localhost:8080/"
        },
        "id": "R36zIletOI7d",
        "outputId": "5d346a42-85ea-4ffd-a2c4-a77cc3c59bdf"
      },
      "source": [
        "#SAMPLE TEST CASE\n",
        "num_rows = 7\n",
        "num_cols = 7\n",
        "array = closed_pattern(num_rows, num_cols)\n",
        "print(array)"
      ],
      "execution_count": 9,
      "outputs": [
        {
          "output_type": "stream",
          "text": [
            "[[1 1 1 1 1 1 1]\n",
            " [1 0 0 0 0 0 1]\n",
            " [1 0 0 0 0 0 1]\n",
            " [1 0 0 0 0 0 1]\n",
            " [1 0 0 0 0 0 1]\n",
            " [1 0 0 0 0 0 1]\n",
            " [1 1 1 1 1 1 1]]\n"
          ],
          "name": "stdout"
        }
      ]
    },
    {
      "cell_type": "markdown",
      "metadata": {
        "id": "UO1gYeYKpy4y"
      },
      "source": [
        " **Expected Output**:\n",
        "```\n",
        "[[1 1 1 1 1]\n",
        " [1 0 0 0 1]\n",
        " [1 0 0 0 1]\n",
        " [1 0 0 0 1]\n",
        " [1 1 1 1 1]]\n",
        "```"
      ]
    },
    {
      "cell_type": "markdown",
      "metadata": {
        "id": "7KNh4prGPO86"
      },
      "source": [
        "### 5. Plus Pattern\n",
        "\n",
        "Implement the `plus_pattern()` function, which creates a `num_rows x num_cols` 2D array with ones filled in a **Plus** pattern. \n",
        "\n",
        "![plus_pattern_image.png](data:image/png;base64,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)\n",
        "\n",
        "**Arguments**:\n",
        "* **`n`** \n",
        "  * It represents number of rows and number of columns in a 2D numpy array\n",
        "  * An odd integer (>= 3)\n",
        "\n",
        "**Returns**:\n",
        "* A 2D numpy array of integers which is filled with **`1s`** and **`0s`**."
      ]
    },
    {
      "cell_type": "code",
      "metadata": {
        "id": "e3792556-e9fb-4e1b-a3a6-a39e5ec37272"
      },
      "source": [
        "def plus_pattern(n):\n",
        "   #ADD YOUR CODE HERE\n",
        "   array = np.zeros((n,n),dtype=int)\n",
        "   array[n//2,:] = 1\n",
        "   array[:,n//2] = 1\n",
        "   return array\n",
        "   "
      ],
      "execution_count": 10,
      "outputs": []
    },
    {
      "cell_type": "code",
      "metadata": {
        "colab": {
          "base_uri": "https://localhost:8080/"
        },
        "id": "NzE9-ty_PzUl",
        "outputId": "c4e4b661-d420-4fff-a8ed-5c5225ce3718"
      },
      "source": [
        "#SAMPLE TEST CASE\n",
        "n = 5\n",
        "array = plus_pattern(n)\n",
        "print(array)"
      ],
      "execution_count": 11,
      "outputs": [
        {
          "output_type": "stream",
          "text": [
            "[[0 0 1 0 0]\n",
            " [0 0 1 0 0]\n",
            " [1 1 1 1 1]\n",
            " [0 0 1 0 0]\n",
            " [0 0 1 0 0]]\n"
          ],
          "name": "stdout"
        }
      ]
    },
    {
      "cell_type": "markdown",
      "metadata": {
        "id": "dmHsLlpzp03W"
      },
      "source": [
        " **Expected Output**:\n",
        "```\n",
        "[[0 0 1 0 0]\n",
        " [0 0 1 0 0]\n",
        " [1 1 1 1 1]\n",
        " [0 0 1 0 0]\n",
        " [0 0 1 0 0]]\n",
        "```\n"
      ]
    },
    {
      "cell_type": "markdown",
      "metadata": {
        "id": "Vd3oNpfq2Hzw"
      },
      "source": [
        "### 6. Standardization\n",
        "\n",
        "Implement the `standardize()` function, which subtracts the mean of the each column from all the elements of that column in the array, and then divides it by standard deviation of that column. i.e,\n",
        "\n",
        "$$\\frac{X - mean(X)}{std(X)}$$ \n",
        "\n",
        "$$\\text{ where $\\textit{'X'}$ is a column of the array.}$$\n",
        "\n",
        "\n",
        "**Arguments**:\n",
        "* **`array_2D`** : A 2D numpy array of floats\n",
        "\n",
        "\n",
        "**Returns**:\n",
        "* A 2D numpy array of floats\n",
        "\n",
        "**Hint**\n",
        "* Use `np.mean()` to find the mean and `np.std()` to find the standard deviation.\n",
        "* Make sure to use the appropriate axis argument."
      ]
    },
    {
      "cell_type": "code",
      "metadata": {
        "id": "3f52b813-00a8-46a5-bb04-6369b6eb653a"
      },
      "source": [
        "def standardize(array_2D):\n",
        "  #ADD YOUR CODE HERE\n",
        "  mean = np.mean(array_2D,axis = 0)\n",
        "  sd = np.std(array_2D,axis=0)\n",
        "  form = (array_2D - mean) / sd\n",
        "  return form\n",
        "   "
      ],
      "execution_count": 12,
      "outputs": []
    },
    {
      "cell_type": "code",
      "metadata": {
        "colab": {
          "base_uri": "https://localhost:8080/"
        },
        "id": "A9JBDWyT3i1D",
        "outputId": "0d135cb3-9fcd-4b15-d0c1-b4532a7a81ae"
      },
      "source": [
        "#SAMPLE TEST CASE\n",
        "array_2D = np.array([[2.0, 4.1, -7.1],\n",
        "                    [1.3, 5.4, 2.2],\n",
        "                    [-3.2, -1.3, 6.1],\n",
        "                    [1.2, 3.4, 5.2]])\n",
        "\n",
        "result = standardize(array_2D)\n",
        "result = np.round(result, 3)\n",
        "print(result)"
      ],
      "execution_count": 13,
      "outputs": [
        {
          "output_type": "stream",
          "text": [
            "[[ 0.814  0.475 -1.665]\n",
            " [ 0.474  0.989  0.115]\n",
            " [-1.713 -1.661  0.861]\n",
            " [ 0.425  0.198  0.689]]\n"
          ],
          "name": "stdout"
        }
      ]
    },
    {
      "cell_type": "markdown",
      "metadata": {
        "id": "ECXNECQU32OY"
      },
      "source": [
        "**Expected Output**:\n",
        "```\n",
        "[[ 0.814  0.475 -1.665]\n",
        " [ 0.474  0.989  0.115]\n",
        " [-1.713 -1.661  0.861]\n",
        " [ 0.425  0.198  0.689]]\n",
        "```"
      ]
    },
    {
      "cell_type": "markdown",
      "metadata": {
        "id": "4obzcYOl4qrT"
      },
      "source": [
        "### 7. Normalisation\n",
        "\n",
        "Implement the `normalise()` function, which subtracts the mean of each column from all the elements of that column in the array and then divides each element of a column with the difference of maximum and minimum elements of that column. i.e,\n",
        "\n",
        "$$\\frac{X - mean(X)}{max(X) - min(X)}$$\n",
        "\n",
        "$$\\text{where $\\textit{X}$ is a column of the array}$$\n",
        "\n",
        "**Arguments**:\n",
        "* **`array_2D`** : A 2D numpy array of floats.\n",
        "\n",
        "\n",
        "**Returns**:\n",
        "* A 2D numpy array of floats.\n",
        "\n",
        "**Hint**:\n",
        "* Use `np.mean()` to find mean, `np.min()` to find minimum value and `np.max()` to find maximum value of a column.\n",
        "* Make sure to use the appropriate axis argument."
      ]
    },
    {
      "cell_type": "code",
      "metadata": {
        "id": "fc79e53a-ad92-4acd-828b-6c8d95a8a29d"
      },
      "source": [
        "def normalise(array_2D):\n",
        "  #ADD YOUR CODE HERE\n",
        "  mean = np.mean(array_2D,axis=0)\n",
        "  max = np.max(array_2D,axis=0)\n",
        "  min = np.min(array_2D,axis=0)\n",
        "  form = (array_2D - mean) / (max - min)\n",
        "  return form   "
      ],
      "execution_count": 14,
      "outputs": []
    },
    {
      "cell_type": "code",
      "metadata": {
        "colab": {
          "base_uri": "https://localhost:8080/"
        },
        "id": "kkZMmjTx5F6B",
        "outputId": "ea25f084-96af-4e03-f38a-f594e08ed2fa"
      },
      "source": [
        "#SAMPLE TEST CASE\n",
        "array_2D = np.array([[2.0, 4.1, -7.1],\n",
        "                    [1.3, 5.4, 2.2],\n",
        "                    [-3.2, -1.3, 6.1],\n",
        "                    [1.2, 3.4, 5.2]])\n",
        "\n",
        "result = normalise(array_2D)\n",
        "result = np.round(result, 3)\n",
        "print(result)"
      ],
      "execution_count": 15,
      "outputs": [
        {
          "output_type": "stream",
          "text": [
            "[[ 0.322  0.179 -0.659]\n",
            " [ 0.188  0.373  0.045]\n",
            " [-0.678 -0.627  0.341]\n",
            " [ 0.168  0.075  0.273]]\n"
          ],
          "name": "stdout"
        }
      ]
    },
    {
      "cell_type": "markdown",
      "metadata": {
        "id": "aQvpu7eV5MON"
      },
      "source": [
        "**Expected Output**:\n",
        "```\n",
        "[[ 0.322  0.179 -0.659]\n",
        " [ 0.188  0.373  0.045]\n",
        " [-0.678 -0.627  0.341]\n",
        " [ 0.168  0.075  0.273]]\n",
        "```"
      ]
    },
    {
      "cell_type": "markdown",
      "metadata": {
        "id": "Ahr1D1FaeSGc"
      },
      "source": [
        "### 8. Minkowski Distance between two colored images\n",
        "\n",
        "Implement the `minkowski_distance_between_two_images()` function which computes the minkowski distance between two colored images.\n",
        "The pixels of each image are given in the form of a 3D numpy array. The RGB values of each pixel are spread across `axis-2` as shown below: \n",
        "\n",
        "![image.png](data:image/png;base64,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)\n",
        "* Convert each RGB image into a grayscale image by calculating the average values of R, G, and B for each pixel as $\\left( R + G + B \\over 3 \\right)$.\n",
        "* Compute the minkowski distance between the two grayscale images.\n",
        "\n",
        "![Screenshot from 2020-11-07 17-31-45.png](data:image/png;base64,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)\n",
        "\n",
        "\n",
        "**Arguments**:\n",
        "* **`image_1`** : \n",
        "  * Pixels of the first colored image\n",
        "  * A 3D numpy array of ints. The value of each element is **>= 0** and **<= 255**\n",
        "* **`image_2`** : \n",
        "  * Pixels of the second colored image\n",
        "  * A 3D numpy array of ints. The value of each element is **>= 0** and **<= 255**\n",
        "* **`n`** : \n",
        "  * n in Minkowski Distance (i.e, n in Ln-norm)\n",
        "  * An integer that is **> 0**\n",
        "\n",
        "**Returns**:\n",
        "* A float value that represents the minkowski distance between the images **`image_1`** and **`image_2`**.\n",
        "\n"
      ]
    },
    {
      "cell_type": "code",
      "metadata": {
        "id": "3abe14a0-9da2-467c-90b9-c0d6fb4d1ade"
      },
      "source": [
        "def minkowski_distance_between_two_images(image_1, image_2, n):\n",
        "  #ADD YOUR CODE HERE\n",
        "  grayscale_one = np.mean(image_1,axis=2)\n",
        "  grayscale_two = np.mean(image_2,axis=2)\n",
        "  difference = np.abs(grayscale_one - grayscale_two)\n",
        "  sum_of_nth_power = np.sum(np.power(difference,n))\n",
        "  minkowski_distance = np.power(sum_of_nth_power, 1/n)\n",
        "  return minkowski_distance\n",
        "  "
      ],
      "execution_count": 16,
      "outputs": []
    },
    {
      "cell_type": "code",
      "metadata": {
        "colab": {
          "base_uri": "https://localhost:8080/"
        },
        "id": "Syck22SC5XLR",
        "outputId": "2195f124-5773-4a36-b956-1d01d15c1d79"
      },
      "source": [
        "#SAMPLE TEST CASE\n",
        "image_1 = np.array([[[ 44,  26, 138],\n",
        "                    [ 62, 115, 246],\n",
        "                    [227,  82,   4],\n",
        "                    [235, 182, 107]],\n",
        "\n",
        "                  [[ 48,  94, 151],\n",
        "                    [ 70,  50,  30],\n",
        "                    [224, 175, 108],\n",
        "                    [ 14,  25, 175]],\n",
        "\n",
        "                  [[243, 133,  73],\n",
        "                    [201, 204, 149],\n",
        "                    [122,  60,   6],\n",
        "                    [244, 113, 202]],\n",
        "\n",
        "                  [[116,  27, 195],\n",
        "                    [ 42, 105,  16],\n",
        "                    [182, 252, 145],\n",
        "                    [198, 131,  95]]])\n",
        "\n",
        "image_2 = np.array([[[ 31,  87, 192],\n",
        "                    [ 69, 240,  64],\n",
        "                    [244,  71, 189],\n",
        "                    [ 21,  92,  78]],\n",
        "\n",
        "                    [[ 59, 206, 133],\n",
        "                    [188, 174,   8],\n",
        "                    [148, 220, 254],\n",
        "                    [181, 173,  94]],\n",
        "\n",
        "                    [[187,  26, 249],\n",
        "                    [ 32, 241, 122],\n",
        "                    [221, 229, 208],\n",
        "                    [252,  89, 246]],\n",
        "\n",
        "                    [[ 24, 131,  60],\n",
        "                    [131,  70, 164],\n",
        "                    [ 60, 128,  14],\n",
        "                    [178,  79,  37]]])\n",
        "n = 3\n",
        "\n",
        "\n",
        "minkowski_distance = minkowski_distance_between_two_images(image_1, image_2, n)\n",
        "minkowski_distance = np.round(minkowski_distance, 3)\n",
        "\n",
        "print(minkowski_distance)"
      ],
      "execution_count": 17,
      "outputs": [
        {
          "output_type": "stream",
          "text": [
            "208.569\n"
          ],
          "name": "stdout"
        }
      ]
    },
    {
      "cell_type": "markdown",
      "metadata": {
        "id": "emCuqKQJ8xK-"
      },
      "source": [
        "**Expected Output**:\n",
        "```\n",
        "208.569\n",
        "```"
      ]
    },
    {
      "cell_type": "markdown",
      "metadata": {
        "id": "X0GuH54eqvH4"
      },
      "source": [
        "## [DON'T EDIT] Submission Evaluation Utilities"
      ]
    },
    {
      "cell_type": "markdown",
      "metadata": {
        "id": "-n66-P-yUnem"
      },
      "source": [
        "### Scan Utils [DON'T EDIT]"
      ]
    },
    {
      "cell_type": "code",
      "metadata": {
        "id": "1a5b77e0-2a48-446d-accc-f96cf7a9be9c"
      },
      "source": [
        "#@title\n",
        "def scan_2D_int_numpy_array():\n",
        "    num_rows = int(input('num_of_rows:'))\n",
        "    array_2D = []\n",
        "    for i in range(0, num_rows):\n",
        "        row_i = [int(col) for col in input().split()]\n",
        "        array_2D.append(row_i)\n",
        "    array_2D = np.array(array_2D)\n",
        "    return array_2D\n",
        "\n",
        "def scan_3D_int_numpy_array():\n",
        "    num_2d_arrays = int(input('num_of_2d_arrays:'))\n",
        "    num_rows = int(input('num_of_rows:'))\n",
        "    array_3D = []\n",
        "    for j in range(0, num_2d_arrays):\n",
        "      array_2D = []\n",
        "      for i in range(0, num_rows):\n",
        "          row_i = [int(col) for col in input().split()]\n",
        "          array_2D.append(row_i)\n",
        "      array_2D = np.array(array_2D)\n",
        "    array_3D.append(array_2D)\n",
        "    \n",
        "    array_3D = np.array(array_3D)\n",
        "    return array_3D\n",
        "\n",
        "def scan_2D_float_numpy_array():\n",
        "    num_rows = int(input())\n",
        "    array_2D = []\n",
        "    for i in range(0, num_rows):\n",
        "        row_i = [float(col) for col in input().split()]\n",
        "        array_2D.append(row_i)\n",
        "    array_2D = np.array(array_2D)\n",
        "    return array_2D"
      ],
      "execution_count": null,
      "outputs": []
    },
    {
      "cell_type": "markdown",
      "metadata": {
        "id": "yi43LOz7qVGY"
      },
      "source": [
        "### Evaluation Utils [DON'T EDIT]"
      ]
    },
    {
      "cell_type": "code",
      "metadata": {
        "cellView": "form",
        "colab": {
          "background_save": true
        },
        "id": "b12ae1ce-0bbc-4d17-ac1e-a5bc31a03cec",
        "outputId": "b8036286-6c48-4dc2-e18e-a7de5fa77dc7"
      },
      "source": [
        "#@title\n",
        "if __name__ == '__main__':\n",
        "    n = int(input())\n",
        "    array_2d = chessboard_pattern(n)\n",
        "    for row in array_2d:\n",
        "        print(*row)"
      ],
      "execution_count": null,
      "outputs": [
        {
          "output_type": "error",
          "ename": "KeyboardInterrupt",
          "evalue": "ignored",
          "traceback": [
            "\u001b[0;31m---------------------------------------------------------------------------\u001b[0m",
            "\u001b[0;31mKeyboardInterrupt\u001b[0m                         Traceback (most recent call last)",
            "\u001b[0;32m/usr/local/lib/python3.6/dist-packages/ipykernel/kernelbase.py\u001b[0m in \u001b[0;36m_input_request\u001b[0;34m(self, prompt, ident, parent, password)\u001b[0m\n\u001b[1;32m    728\u001b[0m             \u001b[0;32mtry\u001b[0m\u001b[0;34m:\u001b[0m\u001b[0;34m\u001b[0m\u001b[0;34m\u001b[0m\u001b[0m\n\u001b[0;32m--> 729\u001b[0;31m                 \u001b[0mident\u001b[0m\u001b[0;34m,\u001b[0m \u001b[0mreply\u001b[0m \u001b[0;34m=\u001b[0m \u001b[0mself\u001b[0m\u001b[0;34m.\u001b[0m\u001b[0msession\u001b[0m\u001b[0;34m.\u001b[0m\u001b[0mrecv\u001b[0m\u001b[0;34m(\u001b[0m\u001b[0mself\u001b[0m\u001b[0;34m.\u001b[0m\u001b[0mstdin_socket\u001b[0m\u001b[0;34m,\u001b[0m \u001b[0;36m0\u001b[0m\u001b[0;34m)\u001b[0m\u001b[0;34m\u001b[0m\u001b[0;34m\u001b[0m\u001b[0m\n\u001b[0m\u001b[1;32m    730\u001b[0m             \u001b[0;32mexcept\u001b[0m \u001b[0mException\u001b[0m\u001b[0;34m:\u001b[0m\u001b[0;34m\u001b[0m\u001b[0;34m\u001b[0m\u001b[0m\n",
            "\u001b[0;32m/usr/local/lib/python3.6/dist-packages/jupyter_client/session.py\u001b[0m in \u001b[0;36mrecv\u001b[0;34m(self, socket, mode, content, copy)\u001b[0m\n\u001b[1;32m    802\u001b[0m         \u001b[0;32mtry\u001b[0m\u001b[0;34m:\u001b[0m\u001b[0;34m\u001b[0m\u001b[0;34m\u001b[0m\u001b[0m\n\u001b[0;32m--> 803\u001b[0;31m             \u001b[0mmsg_list\u001b[0m \u001b[0;34m=\u001b[0m \u001b[0msocket\u001b[0m\u001b[0;34m.\u001b[0m\u001b[0mrecv_multipart\u001b[0m\u001b[0;34m(\u001b[0m\u001b[0mmode\u001b[0m\u001b[0;34m,\u001b[0m \u001b[0mcopy\u001b[0m\u001b[0;34m=\u001b[0m\u001b[0mcopy\u001b[0m\u001b[0;34m)\u001b[0m\u001b[0;34m\u001b[0m\u001b[0;34m\u001b[0m\u001b[0m\n\u001b[0m\u001b[1;32m    804\u001b[0m         \u001b[0;32mexcept\u001b[0m \u001b[0mzmq\u001b[0m\u001b[0;34m.\u001b[0m\u001b[0mZMQError\u001b[0m \u001b[0;32mas\u001b[0m \u001b[0me\u001b[0m\u001b[0;34m:\u001b[0m\u001b[0;34m\u001b[0m\u001b[0;34m\u001b[0m\u001b[0m\n",
            "\u001b[0;32m/usr/local/lib/python3.6/dist-packages/zmq/sugar/socket.py\u001b[0m in \u001b[0;36mrecv_multipart\u001b[0;34m(self, flags, copy, track)\u001b[0m\n\u001b[1;32m    565\u001b[0m         \"\"\"\n\u001b[0;32m--> 566\u001b[0;31m         \u001b[0mparts\u001b[0m \u001b[0;34m=\u001b[0m \u001b[0;34m[\u001b[0m\u001b[0mself\u001b[0m\u001b[0;34m.\u001b[0m\u001b[0mrecv\u001b[0m\u001b[0;34m(\u001b[0m\u001b[0mflags\u001b[0m\u001b[0;34m,\u001b[0m \u001b[0mcopy\u001b[0m\u001b[0;34m=\u001b[0m\u001b[0mcopy\u001b[0m\u001b[0;34m,\u001b[0m \u001b[0mtrack\u001b[0m\u001b[0;34m=\u001b[0m\u001b[0mtrack\u001b[0m\u001b[0;34m)\u001b[0m\u001b[0;34m]\u001b[0m\u001b[0;34m\u001b[0m\u001b[0;34m\u001b[0m\u001b[0m\n\u001b[0m\u001b[1;32m    567\u001b[0m         \u001b[0;31m# have first part already, only loop while more to receive\u001b[0m\u001b[0;34m\u001b[0m\u001b[0;34m\u001b[0m\u001b[0;34m\u001b[0m\u001b[0m\n",
            "\u001b[0;32mzmq/backend/cython/socket.pyx\u001b[0m in \u001b[0;36mzmq.backend.cython.socket.Socket.recv\u001b[0;34m()\u001b[0m\n",
            "\u001b[0;32mzmq/backend/cython/socket.pyx\u001b[0m in \u001b[0;36mzmq.backend.cython.socket.Socket.recv\u001b[0;34m()\u001b[0m\n",
            "\u001b[0;32mzmq/backend/cython/socket.pyx\u001b[0m in \u001b[0;36mzmq.backend.cython.socket._recv_copy\u001b[0;34m()\u001b[0m\n",
            "\u001b[0;32m/usr/local/lib/python3.6/dist-packages/zmq/backend/cython/checkrc.pxd\u001b[0m in \u001b[0;36mzmq.backend.cython.checkrc._check_rc\u001b[0;34m()\u001b[0m\n",
            "\u001b[0;31mKeyboardInterrupt\u001b[0m: ",
            "\nDuring handling of the above exception, another exception occurred:\n",
            "\u001b[0;31mKeyboardInterrupt\u001b[0m                         Traceback (most recent call last)",
            "\u001b[0;32m<ipython-input-19-15bb4785ab76>\u001b[0m in \u001b[0;36m<module>\u001b[0;34m()\u001b[0m\n\u001b[1;32m      1\u001b[0m \u001b[0;31m#@title\u001b[0m\u001b[0;34m\u001b[0m\u001b[0;34m\u001b[0m\u001b[0;34m\u001b[0m\u001b[0m\n\u001b[1;32m      2\u001b[0m \u001b[0;32mif\u001b[0m \u001b[0m__name__\u001b[0m \u001b[0;34m==\u001b[0m \u001b[0;34m'__main__'\u001b[0m\u001b[0;34m:\u001b[0m\u001b[0;34m\u001b[0m\u001b[0;34m\u001b[0m\u001b[0m\n\u001b[0;32m----> 3\u001b[0;31m     \u001b[0mn\u001b[0m \u001b[0;34m=\u001b[0m \u001b[0mint\u001b[0m\u001b[0;34m(\u001b[0m\u001b[0minput\u001b[0m\u001b[0;34m(\u001b[0m\u001b[0;34m)\u001b[0m\u001b[0;34m)\u001b[0m\u001b[0;34m\u001b[0m\u001b[0;34m\u001b[0m\u001b[0m\n\u001b[0m\u001b[1;32m      4\u001b[0m     \u001b[0marray_2d\u001b[0m \u001b[0;34m=\u001b[0m \u001b[0mchessboard_pattern\u001b[0m\u001b[0;34m(\u001b[0m\u001b[0mn\u001b[0m\u001b[0;34m)\u001b[0m\u001b[0;34m\u001b[0m\u001b[0;34m\u001b[0m\u001b[0m\n\u001b[1;32m      5\u001b[0m     \u001b[0;32mfor\u001b[0m \u001b[0mrow\u001b[0m \u001b[0;32min\u001b[0m \u001b[0marray_2d\u001b[0m\u001b[0;34m:\u001b[0m\u001b[0;34m\u001b[0m\u001b[0;34m\u001b[0m\u001b[0m\n",
            "\u001b[0;32m/usr/local/lib/python3.6/dist-packages/ipykernel/kernelbase.py\u001b[0m in \u001b[0;36mraw_input\u001b[0;34m(self, prompt)\u001b[0m\n\u001b[1;32m    702\u001b[0m             \u001b[0mself\u001b[0m\u001b[0;34m.\u001b[0m\u001b[0m_parent_ident\u001b[0m\u001b[0;34m,\u001b[0m\u001b[0;34m\u001b[0m\u001b[0;34m\u001b[0m\u001b[0m\n\u001b[1;32m    703\u001b[0m             \u001b[0mself\u001b[0m\u001b[0;34m.\u001b[0m\u001b[0m_parent_header\u001b[0m\u001b[0;34m,\u001b[0m\u001b[0;34m\u001b[0m\u001b[0;34m\u001b[0m\u001b[0m\n\u001b[0;32m--> 704\u001b[0;31m             \u001b[0mpassword\u001b[0m\u001b[0;34m=\u001b[0m\u001b[0;32mFalse\u001b[0m\u001b[0;34m,\u001b[0m\u001b[0;34m\u001b[0m\u001b[0;34m\u001b[0m\u001b[0m\n\u001b[0m\u001b[1;32m    705\u001b[0m         )\n\u001b[1;32m    706\u001b[0m \u001b[0;34m\u001b[0m\u001b[0m\n",
            "\u001b[0;32m/usr/local/lib/python3.6/dist-packages/ipykernel/kernelbase.py\u001b[0m in \u001b[0;36m_input_request\u001b[0;34m(self, prompt, ident, parent, password)\u001b[0m\n\u001b[1;32m    732\u001b[0m             \u001b[0;32mexcept\u001b[0m \u001b[0mKeyboardInterrupt\u001b[0m\u001b[0;34m:\u001b[0m\u001b[0;34m\u001b[0m\u001b[0;34m\u001b[0m\u001b[0m\n\u001b[1;32m    733\u001b[0m                 \u001b[0;31m# re-raise KeyboardInterrupt, to truncate traceback\u001b[0m\u001b[0;34m\u001b[0m\u001b[0;34m\u001b[0m\u001b[0;34m\u001b[0m\u001b[0m\n\u001b[0;32m--> 734\u001b[0;31m                 \u001b[0;32mraise\u001b[0m \u001b[0mKeyboardInterrupt\u001b[0m\u001b[0;34m\u001b[0m\u001b[0;34m\u001b[0m\u001b[0m\n\u001b[0m\u001b[1;32m    735\u001b[0m             \u001b[0;32melse\u001b[0m\u001b[0;34m:\u001b[0m\u001b[0;34m\u001b[0m\u001b[0;34m\u001b[0m\u001b[0m\n\u001b[1;32m    736\u001b[0m                 \u001b[0;32mbreak\u001b[0m\u001b[0;34m\u001b[0m\u001b[0;34m\u001b[0m\u001b[0m\n",
            "\u001b[0;31mKeyboardInterrupt\u001b[0m: "
          ]
        }
      ]
    },
    {
      "cell_type": "code",
      "metadata": {
        "cellView": "form",
        "colab": {
          "background_save": true
        },
        "id": "667cc544-2b65-4b64-91db-ddd504da8dc4"
      },
      "source": [
        "#@title\n",
        "if __name__ == '__main__':\n",
        "    n = int(input())\n",
        "    array_2d = Y_pattern(n)\n",
        "    for row in array_2d:\n",
        "        print(*row)"
      ],
      "execution_count": null,
      "outputs": []
    },
    {
      "cell_type": "code",
      "metadata": {
        "cellView": "form",
        "colab": {
          "background_save": true
        },
        "id": "7ff54331-124c-43ee-a605-cf41dcb9a313"
      },
      "source": [
        "#@title\n",
        "if __name__ == '__main__':\n",
        "    num_rows = int(input())\n",
        "    num_cols = int(input())\n",
        "    array_2d = T_pattern(num_rows, num_cols)\n",
        "    for row in array_2d:\n",
        "        print(*row)"
      ],
      "execution_count": null,
      "outputs": []
    },
    {
      "cell_type": "code",
      "metadata": {
        "cellView": "form",
        "colab": {
          "background_save": true
        },
        "id": "41e1d441-e30f-49f4-a1ee-91a692fa8f35"
      },
      "source": [
        "#@title\n",
        "if __name__ == '__main__':\n",
        "    num_rows = int(input())\n",
        "    num_cols = int(input())\n",
        "    array_2d = closed_pattern(num_rows, num_cols)\n",
        "    for row in array_2d:\n",
        "        print(*row)"
      ],
      "execution_count": null,
      "outputs": []
    },
    {
      "cell_type": "code",
      "metadata": {
        "cellView": "form",
        "colab": {
          "background_save": true
        },
        "id": "ab5afde7-94c7-4541-9bb8-8c7f2ac1499b"
      },
      "source": [
        "#@title\n",
        "if __name__ == '__main__':\n",
        "    n = int(input())\n",
        "    array_2d = plus_pattern(n)\n",
        "    for row in array_2d:\n",
        "        print(*row)"
      ],
      "execution_count": null,
      "outputs": []
    },
    {
      "cell_type": "code",
      "metadata": {
        "cellView": "form",
        "colab": {
          "background_save": true
        },
        "id": "cfecf5d8-a8fb-42ac-8b6d-f987ad1010c6"
      },
      "source": [
        "#@title\n",
        "if __name__ == '__main__':\n",
        "    array_2D = scan_2D_float_numpy_array()\n",
        "\n",
        "    result = standardize(array_2D)\n",
        "    result = np.round(result, 3)\n",
        "    for row in result:\n",
        "        print (*row)"
      ],
      "execution_count": null,
      "outputs": []
    },
    {
      "cell_type": "code",
      "metadata": {
        "cellView": "form",
        "colab": {
          "background_save": true
        },
        "id": "73b333d1-8888-4d2a-ba4c-d090c68c9657"
      },
      "source": [
        "#@title\n",
        "if __name__ == '__main__':\n",
        "    array_2D = scan_2D_float_numpy_array()\n",
        "\n",
        "    result = normalise(array_2D)\n",
        "    result = np.round(result, 3)\n",
        "    for row in result:\n",
        "        print (*row)"
      ],
      "execution_count": null,
      "outputs": []
    },
    {
      "cell_type": "code",
      "metadata": {
        "cellView": "form",
        "colab": {
          "background_save": true
        },
        "id": "98ec507f-e5ad-4965-867a-d857b17371e3"
      },
      "source": [
        "#@title\n",
        "if __name__ == '__main__':\n",
        "    image_1 = scan_3D_int_numpy_array()\n",
        "    image_2 = scan_3D_int_numpy_array()\n",
        "    n = int(input('n: '))\n",
        "    \n",
        "    minkowski_distance = minkowski_distance_between_two_images(image_1, image_2, n)\n",
        "    minkowski_distance = np.round(minkowski_distance, 3)\n",
        "    print(minkowski_distance)"
      ],
      "execution_count": null,
      "outputs": []
    }
  ]
}