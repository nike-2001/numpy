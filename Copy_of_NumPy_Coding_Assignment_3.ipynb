{
  "nbformat": 4,
  "nbformat_minor": 0,
  "metadata": {
    "colab": {
      "name": "Copy of NumPy Coding Assignment 3.ipynb",
      "provenance": [],
      "collapsed_sections": [],
      "include_colab_link": true
    },
    "kernelspec": {
      "name": "python3",
      "display_name": "Python 3"
    }
  },
  "cells": [
    {
      "cell_type": "markdown",
      "metadata": {
        "id": "view-in-github",
        "colab_type": "text"
      },
      "source": [
        "<a href=\"https://colab.research.google.com/github/nike-2001/numpy/blob/main/Copy_of_NumPy_Coding_Assignment_3.ipynb\" target=\"_parent\"><img src=\"https://colab.research.google.com/assets/colab-badge.svg\" alt=\"Open In Colab\"/></a>"
      ]
    },
    {
      "cell_type": "code",
      "metadata": {
        "id": "048e0c2e-13a5-4ffe-ac89-09090775ba8a"
      },
      "source": [
        "import numpy as np"
      ],
      "execution_count": 1,
      "outputs": []
    },
    {
      "cell_type": "markdown",
      "metadata": {
        "id": "0b114e46-c9ea-4feb-8dbd-d38bbd418adb"
      },
      "source": [
        "### 1. Distance Weighted Voting \n",
        "\n",
        "Implement the `distance_weighted_voting()` function, which computes the predicted class for a given test instance based on the distances to its k Nearest Neighbors.\n",
        "\n",
        "**Arguments**:\n",
        "* **`label_array`** : Class labels of the `k` nearest training instances from the test instance.\n",
        " * A 1D numpy array of `chars` where $i^{th}$ element represents the class label of $i^{th}$ training instance\n",
        " * Array Shape: `(k, )`\n",
        "\n",
        "* **`distances_array`** : Distances of the `k` nearest training instances from the test instance.\n",
        " * A 1D numpy array of `floats` where the $i^{th}$ element represents the distance of the $i^{th}$ training instance from the test instance.\n",
        " * Array Shape: `(k, )`\n",
        "\n",
        "**Returns**:\n",
        "* A `char` which is the predicted class label of the test instance.\n",
        "\n",
        "**Note:** If there is a tie among the weights of the class labels, then break the tie randomly."
      ]
    },
    {
      "cell_type": "code",
      "metadata": {
        "id": "ca7dfd72-650f-40cb-9527-206ac69ca8ef"
      },
      "source": [
        "def distance_weighted_voting(label_array, distances_array):\n",
        "  # ADD YOUR CODE HERE\n",
        "  unique_class_labels = np.unique(label_array)\n",
        "\n",
        "  weights_array = np.array([])\n",
        "  for class_label in unique_class_labels:\n",
        "      class_weight = np.sum(np.where(label_array == class_label, 1/distances_array, 0))\n",
        "      weights_array = np.append(weights_array, class_weight)\n",
        "  \n",
        "  predicted_class_index = np.argmax(weights_array)  \n",
        "  return unique_class_labels[predicted_class_index]"
      ],
      "execution_count": 2,
      "outputs": []
    },
    {
      "cell_type": "code",
      "metadata": {
        "id": "db603564-8b8d-4aa4-8122-5014d530ed88",
        "colab": {
          "base_uri": "https://localhost:8080/"
        },
        "outputId": "aab2448a-348b-4223-c397-40566d3c7069"
      },
      "source": [
        "# SAMPLE TEST CASE\n",
        "\n",
        "label_array = np.array(['A','B','C','A','B'])\n",
        "distances_array = np.array([1.2, 3.4, 2.3, 2.2, 1.5])\n",
        "print(distance_weighted_voting(label_array, distances_array))"
      ],
      "execution_count": 3,
      "outputs": [
        {
          "output_type": "stream",
          "text": [
            "A\n"
          ],
          "name": "stdout"
        }
      ]
    },
    {
      "cell_type": "markdown",
      "metadata": {
        "id": "17170608-f6c9-4253-9cb5-b1467338a4c1"
      },
      "source": [
        "**Expected Output**:\n",
        "```\n",
        "A\n",
        "```"
      ]
    },
    {
      "cell_type": "markdown",
      "metadata": {
        "id": "d0a6e262-7cac-49a5-a2be-30649a9483d0"
      },
      "source": [
        "### 2. Micro-averaged Precision\n",
        "\n",
        "Implement the `micro_averaged_precision()` function, which computes the micro-averaged precision for a **multi-label**, multi-class classification problem.\n",
        "\n",
        "\n",
        "**Arguments**:\n",
        "* **`actual_2D`** : Actual labels of instances\n",
        "  * A 2d numpy array where each row represents an instance and each column represents a class.\n",
        "  * For each instance, the value in $i^{th}$ column is `True` if $i^{th}$ class is among the actual labels for that instance. Otherwise, the value in $i^{th}$ column is `False`.\n",
        " \n",
        "\n",
        "* **`predicted_2D`**: Predicted labels of instances\n",
        " * A 2d numpy array where each row represents an instance and each column represents a class. \n",
        " * For each instance, the value in $i^{th}$ column is `True` if $i^{th}$ class is among the predicted labels for that instance. Otherwise, the value in $i^{th}$ column is `False`.\n",
        "\n",
        "**Returns**:  \n",
        "* A `float` value which is the Micro-averaged Precision."
      ]
    },
    {
      "cell_type": "code",
      "metadata": {
        "id": "8daa4c39-54c6-4f90-927e-571884dedb96"
      },
      "source": [
        "def micro_averaged_precision(actual_2D, predicted_2D):\n",
        "  # ADD YOUR CODE HERE\n",
        "  true_positives = np.logical_and(actual_2D == True, predicted_2D == True)\n",
        "  true_positives_count = np.count_nonzero(true_positives == True)\n",
        "  \n",
        "  false_positives = np.logical_and(actual_2D == False, predicted_2D == True)\n",
        "  false_positives_count = np.count_nonzero(false_positives == True)\n",
        "  \n",
        "  precision = 0.0\n",
        "  \n",
        "  if(true_positives_count != 0):\n",
        "    predicted_positives_count = true_positives_count + false_positives_count\n",
        "    precision = true_positives_count/predicted_positives_count\n",
        "  \n",
        "  return precision\n"
      ],
      "execution_count": 4,
      "outputs": []
    },
    {
      "cell_type": "code",
      "metadata": {
        "id": "4f26e688-01f1-402c-bd8b-4c5179496eef",
        "colab": {
          "base_uri": "https://localhost:8080/"
        },
        "outputId": "71bd4359-a8bc-48a5-8a81-180b2f5b6dc1"
      },
      "source": [
        "# SAMPLE TEST CASE\n",
        "\n",
        "actual_2D = np.array([[True, False, False, True],\n",
        "                        [False, True, False, True]])\n",
        "predicted_2D = np.array([[True, False, False, True],\n",
        "                        [False, True, False, True]])\n",
        "result = micro_averaged_precision(actual_2D, predicted_2D)\n",
        "print(np.round(result, 3))"
      ],
      "execution_count": 5,
      "outputs": [
        {
          "output_type": "stream",
          "text": [
            "1.0\n"
          ],
          "name": "stdout"
        }
      ]
    },
    {
      "cell_type": "markdown",
      "metadata": {
        "id": "809a1a36-3bbc-42e3-a897-e01f955a92db"
      },
      "source": [
        "**Expected Output**:\n",
        "```\n",
        "1.0\n",
        "```"
      ]
    },
    {
      "cell_type": "markdown",
      "metadata": {
        "id": "8156dc33-4a3c-4640-a102-f330d32c6942"
      },
      "source": [
        "### 3. Micro-averaged Recall\n",
        "\n",
        "Implement the `micro_averaged_recall()` function, which computes the micro-averaged recall for a **multi-label**, multi-class classification problem.\n",
        "\n",
        "\n",
        "**Arguments**:\n",
        "* **`actual_2D`** : Actual labels of instances\n",
        "  * A 2d numpy array where each row represents an instance and each column represents a class.\n",
        "  * For each instance, the value in $i^{th}$ column is `True` if $i^{th}$ class is among the actual labels for that instance. Otherwise, the value in $i^{th}$ column is `False`.\n",
        " \n",
        "\n",
        "* **`predicted_2D`**: Predicted labels of instances\n",
        " * A 2d numpy array where each row represents an instance and each column represents a class. \n",
        " * For each instance, the value in $i^{th}$ column is `True` if $i^{th}$ class is among the predicted labels for that instance. Otherwise, the value in $i^{th}$ column is `False`.\n",
        "\n",
        "**Returns**:  \n",
        "* A `float` value which is the Micro-averaged Recall."
      ]
    },
    {
      "cell_type": "code",
      "metadata": {
        "id": "bb5e559e-6fbc-41e9-a29a-dec1ee9384ba"
      },
      "source": [
        "def micro_averaged_recall(actual_2D, predicted_2D):\n",
        "  # ADD YOUR CODE HERE\n",
        "  true_positives = np.logical_and(actual_2D == True, predicted_2D == True)\n",
        "  true_positives_count = np.count_nonzero(true_positives == True)\n",
        "\n",
        "  false_negatives = np.logical_and(actual_2D == True, predicted_2D == False)\n",
        "  false_negatives_count = np.count_nonzero(false_negatives == True)\n",
        "\n",
        "  recall = 0.0\n",
        "\n",
        "  if true_positives_count != 0:\n",
        "    actual_positives_count = true_positives_count + false_negatives_count\n",
        "    recall = true_positives_count / actual_positives_count\n",
        "\n",
        "  return recall\n"
      ],
      "execution_count": 6,
      "outputs": []
    },
    {
      "cell_type": "code",
      "metadata": {
        "id": "1da01c6b-af35-4d08-a292-c0daa92371f2",
        "colab": {
          "base_uri": "https://localhost:8080/"
        },
        "outputId": "b2a6d04e-80af-4c91-cecb-33efaf119f1a"
      },
      "source": [
        "# SAMPLE TEST CASE\n",
        "\n",
        "actual_2D = np.array([[True, False, False, True],\n",
        "                        [False, True, False, True]])\n",
        "predicted_2D = np.array([[True, False, False, True],\n",
        "                        [False, True, False, True]])\n",
        "result = micro_averaged_recall(actual_2D, predicted_2D)\n",
        "print(np.round(result, 3))"
      ],
      "execution_count": 7,
      "outputs": [
        {
          "output_type": "stream",
          "text": [
            "1.0\n"
          ],
          "name": "stdout"
        }
      ]
    },
    {
      "cell_type": "markdown",
      "metadata": {
        "id": "1d902b2f-f6db-4d85-8fcb-59c20d0f1aab"
      },
      "source": [
        "**Expected Output**:\n",
        "```\n",
        "1.0\n",
        "```"
      ]
    },
    {
      "cell_type": "markdown",
      "metadata": {
        "id": "45b5a465-f762-424d-b6e6-57b9e70c69ed"
      },
      "source": [
        "### 4. Students grades\n",
        "\n",
        "Implement the `student_grades()` function, which evaluates the grades of each student for the given marks in a subject. The function should use the relative grading method which is described below.\n",
        "\n",
        "Based on the given marks, assign $Grade_i$ for least possible $i$ such that  $$marks \\ge Avg + Std*offset_i$$\n",
        "\n",
        "$\\hspace{40ex}$ where <br>\n",
        "$\\hspace{43ex}$ $Avg$ is the class average marks,<br>\n",
        "$\\hspace{43ex}$ $Std$ is the standard deviation of class marks\n",
        "\n",
        "\n",
        "If there is no such $i$ which satisfies the condition mentioned above, then assign the last element in the given array of grades. That is, $Grade_{last}$.\n",
        "\n",
        "**Arguments**:\n",
        "* **`marks_1D`** : Marks of each student in a subject.\n",
        " * A 1D numpy array of `ints`\n",
        "* **`offset_1D`**: Offsets for relative grading.\n",
        " * A 1D numpy array of `floats`\n",
        " * It's a sorted array in descending order\n",
        "* **`grades_1D`**: Grades to be assigned for the corresponding range of scores given by the offsets.\n",
        " * A 1D numpy array of `chars`\n",
        "\n",
        "**Returns**:\n",
        "* A 1D numpy array of `chars` which represents the grades for each student.\n",
        "\n"
      ]
    },
    {
      "cell_type": "code",
      "metadata": {
        "id": "e0e1ba3a-871e-4ee1-ac1a-52fd476f8dd8"
      },
      "source": [
        "def student_grades(marks_1D, offset_1D, grades_1D):\n",
        "  #ADD YOUR CODE HERE\n",
        "  marks_mean = np.mean(marks_1D)\n",
        "  marks_std = np.std(marks_1D)\n",
        "  marks_coef_1D = (marks_1D - marks_mean)/marks_std\n",
        "\n",
        "  marks_coef_2D = marks_coef_1D.reshape(-1, 1)\n",
        "  offset_1D = np.append(offset_1D, -np.inf)\n",
        "  compare_2D = (marks_coef_2D >= offset_1D)\n",
        "  \n",
        "  offset_indices = np.argmax(compare_2D, axis=1)  \n",
        "  return grades_1D[offset_indices]\n",
        "\n",
        "\n",
        "\n",
        "  "
      ],
      "execution_count": 8,
      "outputs": []
    },
    {
      "cell_type": "code",
      "metadata": {
        "id": "f276bf4f-cda3-4cb0-900d-3b0a6764799f",
        "colab": {
          "base_uri": "https://localhost:8080/"
        },
        "outputId": "fa895f51-97c1-41d1-d4b5-d4a415347beb"
      },
      "source": [
        "# SAMPLE TEST CASE\n",
        "\n",
        "marks_1D = np.array([9, 8, 8, 7])\n",
        "offset_1D = np.array([1.5, 1.0, 0, -1.0, -1.5])\n",
        "grades_1D = np.array([\"A\",\"B\",\"C\",\"D\",\"E\",\"Z\"])\n",
        "print(student_grades(marks_1D, offset_1D, grades_1D))"
      ],
      "execution_count": 9,
      "outputs": [
        {
          "output_type": "stream",
          "text": [
            "['B' 'C' 'C' 'E']\n"
          ],
          "name": "stdout"
        }
      ]
    },
    {
      "cell_type": "markdown",
      "metadata": {
        "id": "7fc2bb2d-22e8-4443-8465-82979c83a6eb"
      },
      "source": [
        "**Expected Output**:\n",
        "```\n",
        "['B' 'C' 'C' 'E']\n",
        "```"
      ]
    }
  ]
}